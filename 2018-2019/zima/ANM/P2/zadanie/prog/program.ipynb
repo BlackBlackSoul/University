{
 "cells": [
  {
   "cell_type": "markdown",
   "metadata": {},
   "source": [
    "Wszystkie obliczenia wykonywane są z 256-bitową precyzją arytmetyki."
   ]
  },
  {
   "cell_type": "code",
   "execution_count": 1,
   "metadata": {},
   "outputs": [
    {
     "data": {
      "text/plain": [
       "256"
      ]
     },
     "execution_count": 1,
     "metadata": {},
     "output_type": "execute_result"
    }
   ],
   "source": [
    "setprecision(256)"
   ]
  },
  {
   "cell_type": "markdown",
   "metadata": {},
   "source": [
    "Biblioteka do rysowania wykresów"
   ]
  },
  {
   "cell_type": "code",
   "execution_count": 2,
   "metadata": {},
   "outputs": [
    {
     "data": {
      "text/plain": [
       "Plots.PlotlyBackend()"
      ]
     },
     "execution_count": 2,
     "metadata": {},
     "output_type": "execute_result"
    }
   ],
   "source": [
    "# using Pkg\n",
    "# Pkg.add(\"Plots\")\n",
    "using Plots\n",
    "plotly()"
   ]
  },
  {
   "cell_type": "markdown",
   "metadata": {},
   "source": [
    "***\n",
    "Funkcja obliczająca iloraz różnicowy z definicji \n",
    "$$f[x_0, x_1, ...,\\, x_n] := \\sum_{i=0}^n\\frac{f(x_i)}\n",
    "    {\\prod\\limits_{\\substack{{j=0}\\\\{j\\neq i}}}{(x_i - x_j)}}$$"
   ]
  },
  {
   "cell_type": "code",
   "execution_count": 3,
   "metadata": {},
   "outputs": [
    {
     "data": {
      "text/plain": [
       "difference_quotient (generic function with 1 method)"
      ]
     },
     "execution_count": 3,
     "metadata": {},
     "output_type": "execute_result"
    }
   ],
   "source": [
    "function difference_quotient(points)\n",
    "    xs = map(x -> x[1], points)\n",
    "    ys = map(y -> y[2], points)\n",
    "    n = size(xs)[1]\n",
    "\n",
    "    res = BigFloat(0)\n",
    "    \n",
    "    for i in 1:n\n",
    "        denominator = BigFloat(1)\n",
    "        for j in 1:n\n",
    "            if j != i\n",
    "                denominator *= (xs[i] - xs[j])\n",
    "            end\n",
    "        end\n",
    "        res += ys[i] / denominator\n",
    "    end\n",
    "\n",
    "    return res\n",
    "end"
   ]
  },
  {
   "cell_type": "markdown",
   "metadata": {},
   "source": [
    "***\n",
    "Funkcja obliczające kolejne przybliżenia miejsca zerowego funkcji $f(x)$ wykorzystująca metodę Müllera\n",
    "$$x_{n+1} = x_n - \n",
    "\\frac{2f(x_n)}\n",
    "{\\lambda \\pm \\sqrt{\\lambda^2 -4f(x_n)f[x_n, x_{n-1}, x_{n-2}]}},$$\n",
    "\n",
    "gdzie $$\\lambda = f[x_n,x_{n-1}] + f[x_n, x_{n-2}] - f[x_{n-1}, x_{n-2}]$$"
   ]
  },
  {
   "cell_type": "code",
   "execution_count": 4,
   "metadata": {},
   "outputs": [
    {
     "data": {
      "text/plain": [
       "mullers_method (generic function with 1 method)"
      ]
     },
     "execution_count": 4,
     "metadata": {},
     "output_type": "execute_result"
    }
   ],
   "source": [
    "function mullers_method(x0, x1, x2, f)\n",
    "    if x1 == x2\n",
    "        return :end\n",
    "    end\n",
    "    \n",
    "    # Często używane wartości funkcji są zapamiętywane \n",
    "    # aby uniknąć ich wielokrotnego obliczania\n",
    "    f0 = f(x0)\n",
    "    f1 = f(x1)\n",
    "    f2 = f(x2)\n",
    "    numerator = BigFloat(2.0) * f2\n",
    "\n",
    "    λ = difference_quotient([(x2, f2), (x1, f1)]) +\n",
    "        difference_quotient([(x2, f2), (x0, f0)]) -\n",
    "        difference_quotient([(x1, f1), (x0, f0)])\n",
    "    x0_x1_x2_diff_quot = difference_quotient([\n",
    "        (x0, f0), \n",
    "        (x1, f1), \n",
    "        (x2, f2)\n",
    "    ])\n",
    "\n",
    "    # Obliczanie obu możliwych wartości mianownika\n",
    "    denom_r = sqrt(λ^2.0 - 4.0*f(x2) * x0_x1_x2_diff_quot + 0im)\n",
    "    denom_0 = λ - denom_r\n",
    "    denom_1 = λ + denom_r\n",
    "\n",
    "    # Wybór większej wartości mianownika\n",
    "    denominator = abs(denom_0) > abs(denom_1) ? denom_0 : denom_1\n",
    "    result = x2 - numerator/denominator\n",
    "    return result\n",
    "end"
   ]
  },
  {
   "cell_type": "markdown",
   "metadata": {},
   "source": [
    "***\n",
    "Funkcja obliczająca kolejne przybliżenie miejsca zerowego funkcji f(x) używająca metody Newtona\n",
    "$$x_n := x_{n-1} - \\frac{f(x_{n-1})}{f'(x_{n-1})}.\\label{newtonformula}\\tag{2}$$"
   ]
  },
  {
   "cell_type": "code",
   "execution_count": 5,
   "metadata": {},
   "outputs": [
    {
     "data": {
      "text/plain": [
       "newtons_method (generic function with 1 method)"
      ]
     },
     "execution_count": 5,
     "metadata": {},
     "output_type": "execute_result"
    }
   ],
   "source": [
    "function newtons_method(x0, f, df)\n",
    "    return x0 - f(x0) / df(x0)\n",
    "end"
   ]
  },
  {
   "cell_type": "markdown",
   "metadata": {},
   "source": [
    "***\n",
    "Funkcja obliczająca kolejne przybliżenie miejsca zerowego funkcji f(x) przy użyciu metody siecznych.\n",
    "$$x_n:=x_{n-1} - f(x_{n-1})\\frac{x_{n-1} - x_{n-2}}{f(x_{n-1}) - f(x_{n-2})}$$"
   ]
  },
  {
   "cell_type": "code",
   "execution_count": 6,
   "metadata": {},
   "outputs": [
    {
     "data": {
      "text/plain": [
       "secant_method (generic function with 1 method)"
      ]
     },
     "execution_count": 6,
     "metadata": {},
     "output_type": "execute_result"
    }
   ],
   "source": [
    "function secant_method(x0, x1, f)\n",
    "    if x1 == x0\n",
    "        return :end\n",
    "    end\n",
    "\n",
    "    f0 = f(x0)\n",
    "    f1 = f(x1)\n",
    "    return x1 - f1 * (x1 - x0) / (f1 - f0)\n",
    "end"
   ]
  },
  {
   "cell_type": "markdown",
   "metadata": {},
   "source": [
    "***\n",
    "Funkcja obliczająca $x_1, x_2, ..., x_n$ dla wszystkich trzech metod."
   ]
  },
  {
   "cell_type": "code",
   "execution_count": 7,
   "metadata": {},
   "outputs": [
    {
     "data": {
      "text/plain": [
       "calculate_results (generic function with 1 method)"
      ]
     },
     "execution_count": 7,
     "metadata": {},
     "output_type": "execute_result"
    }
   ],
   "source": [
    "function calculate_results(f, df, x0, n)\n",
    "    x1 = newtons_method(x0, f, df)\n",
    "    x2 = secant_method(x0, x1, f)\n",
    "    \n",
    "    newton_results = [x0]\n",
    "    secant_results = [x0, x1]\n",
    "    muller_results = Union{BigFloat, Complex{BigFloat}}[x0, x1, x2]\n",
    "\n",
    "    newton_finished = false\n",
    "    secant_finished = false\n",
    "    muller_finished = false\n",
    "    \n",
    "    for i in 1:n\n",
    "        if newton_finished && secant_finished && muller_finished\n",
    "            break\n",
    "        end\n",
    "        \n",
    "        if !newton_finished\n",
    "            x_i = newtons_method(newton_results[i], f, df)\n",
    "            if x_i == newton_results[i]\n",
    "                newton_finished = true\n",
    "            else\n",
    "                push!(newton_results, x_i)\n",
    "            end\n",
    "        end\n",
    "                \n",
    "        if !secant_finished\n",
    "            x_i = secant_method(\n",
    "                secant_results[i],\n",
    "                secant_results[i+1],\n",
    "                f\n",
    "            )\n",
    "            if x_i == :end\n",
    "                secant_finished = true\n",
    "            else\n",
    "                push!(secant_results, x_i)\n",
    "            end\n",
    "        end\n",
    "\n",
    "        if !muller_finished\n",
    "            x_i = mullers_method(\n",
    "                muller_results[i],\n",
    "                muller_results[i+1],\n",
    "                muller_results[i+2],\n",
    "                f\n",
    "            )\n",
    "            if x_i == :end\n",
    "                muller_finished = true\n",
    "            else\n",
    "                push!(muller_results, x_i)\n",
    "            end\n",
    "        end\n",
    "    end\n",
    "\n",
    "    return newton_results, secant_results, muller_results\n",
    "end"
   ]
  },
  {
   "cell_type": "markdown",
   "metadata": {},
   "source": [
    "Funkcja wypisująca wyniki obliczeń dla wszystkich trzech metod"
   ]
  },
  {
   "cell_type": "code",
   "execution_count": 8,
   "metadata": {},
   "outputs": [
    {
     "data": {
      "text/plain": [
       "test_methods (generic function with 1 method)"
      ]
     },
     "execution_count": 8,
     "metadata": {},
     "output_type": "execute_result"
    }
   ],
   "source": [
    "# Funkcja obliczająca liczbę poprawnych cyfr wyniku\n",
    "function correct_digits(approx, accurate)\n",
    "    delta = abs((accurate - approx) / accurate)\n",
    "    return floor(-log10(delta))\n",
    "end\n",
    "\n",
    "function fill_array(array, n)\n",
    "    if size(array)[1] > n\n",
    "        throw(\"fill_array: Invalid input!\")\n",
    "    else\n",
    "        while size(array)[1] < n\n",
    "            push!(array, BigFloat(Inf))\n",
    "        end\n",
    "    end\n",
    "end\n",
    "\n",
    "function draw_plot(newton, secant, muller)\n",
    "    n = max(size(newton)[1], size(secant)[1], size(muller)[1])\n",
    "    fill_array(newton, n)\n",
    "    fill_array(secant, n)\n",
    "    fill_array(muller, n)\n",
    "    plot(\n",
    "        1:n,\n",
    "        xticks=0:1:n,\n",
    "        yticks=0:5:120,\n",
    "        xlabel=\"\\$n\\$\",\n",
    "        ylabel=\"\\$liczba\\\\, cyfr\\$\",\n",
    "        label=[\"Newton\" \"sieczne\" \"Müller\"],\n",
    "        [newton, secant, muller],\n",
    "        linewidth=2.0\n",
    "    )\n",
    "end\n",
    "\n",
    "function test_methods(f, df, x0, zero, n)    \n",
    "    newton0, secant0, muller0 = calculate_results(f, df, x0, n)\n",
    "    newton, secant, muller = map(\n",
    "        xs -> map(x -> correct_digits(x, zero), xs),\n",
    "        (newton0, secant0, muller0)\n",
    "    )\n",
    "    \n",
    "    function print_results(xs, name)\n",
    "        println(\"Wyniki dla metody $name:\\n\")\n",
    "        i = 1\n",
    "        for x in xs\n",
    "            istr = lpad(i-1, Int64(ceil(log10(n)))+1, '0')\n",
    "            println(\"n=$istr --- $(xs[i])\")\n",
    "            i += 1\n",
    "        end\n",
    "        println(\"==========================================\")\n",
    "    end\n",
    "    \n",
    "    print_results(newton, \"Newtona\")\n",
    "    print_results(secant, \"siecznych\")\n",
    "    print_results(muller, \"Müllera\")\n",
    "\n",
    "    draw_plot(newton, secant, muller)\n",
    "end"
   ]
  },
  {
   "cell_type": "markdown",
   "metadata": {},
   "source": [
    "***\n",
    "Testy dla różnych funkcji"
   ]
  },
  {
   "cell_type": "code",
   "execution_count": 9,
   "metadata": {},
   "outputs": [
    {
     "name": "stdout",
     "output_type": "stream",
     "text": [
      "Wyniki dla metody Newtona:\n",
      "\n",
      "n=000 --- -1.0\n",
      "n=001 --- 0.0\n",
      "n=002 --- 1.0\n",
      "n=003 --- 2.0\n",
      "n=004 --- 4.0\n",
      "n=005 --- 8.0\n",
      "n=006 --- 1.6e+01\n",
      "n=007 --- 3.3e+01\n",
      "n=008 --- 6.7e+01\n",
      "n=009 --- 7.6e+01\n",
      "n=010 --- 7.6e+01\n",
      "n=011 --- 7.6e+01\n",
      "n=012 --- 7.6e+01\n",
      "n=013 --- 7.6e+01\n",
      "n=014 --- 7.6e+01\n",
      "n=015 --- 7.6e+01\n",
      "n=016 --- 7.6e+01\n",
      "n=017 --- 7.6e+01\n",
      "n=018 --- 7.6e+01\n",
      "n=019 --- 7.6e+01\n",
      "n=020 --- 7.6e+01\n",
      "==========================================\n",
      "Wyniki dla metody siecznych:\n",
      "\n",
      "n=000 --- -1.0\n",
      "n=001 --- 0.0\n",
      "n=002 --- 0.0\n",
      "n=003 --- 1.0\n",
      "n=004 --- 2.0\n",
      "n=005 --- 3.0\n",
      "n=006 --- 5.0\n",
      "n=007 --- 8.0\n",
      "n=008 --- 1.4e+01\n",
      "n=009 --- 2.3e+01\n",
      "n=010 --- 3.7e+01\n",
      "n=011 --- 6.1e+01\n",
      "n=012 --- 7.6e+01\n",
      "n=013 --- 7.6e+01\n",
      "n=014 --- Inf\n",
      "n=015 --- Inf\n",
      "==========================================\n",
      "Wyniki dla metody Müllera:\n",
      "\n",
      "n=000 --- -1.0\n",
      "n=001 --- 0.0\n",
      "n=002 --- 0.0\n",
      "n=003 --- 7.6e+01\n",
      "n=004 --- 7.6e+01\n",
      "n=005 --- Inf\n",
      "n=006 --- Inf\n",
      "==========================================\n"
     ]
    },
    {
     "data": {
      "text/html": [
       "    <script type=\"text/javascript\">\n",
       "        requirejs([\"https://cdn.plot.ly/plotly-latest.min.js\"], function(p) {\n",
       "            window.Plotly = p\n",
       "        });\n",
       "    </script>\n"
      ]
     },
     "metadata": {},
     "output_type": "display_data"
    },
    {
     "data": {
      "application/vnd.plotly.v1+json": {
       "data": [
        {
         "colorbar": {
          "title": ""
         },
         "hoverinfo": "text",
         "legendgroup": "Newton",
         "line": {
          "color": "rgba(0, 154, 250, 1.000)",
          "dash": "solid",
          "shape": "linear",
          "width": 2
         },
         "mode": "lines",
         "name": "Newton",
         "showlegend": true,
         "text": [
          null,
          null,
          null,
          null,
          null,
          null,
          null,
          null,
          null,
          null,
          null,
          null,
          null,
          null,
          null,
          null,
          null,
          null,
          null,
          null,
          null
         ],
         "type": "scatter",
         "x": [
          1,
          2,
          3,
          4,
          5,
          6,
          7,
          8,
          9,
          10,
          11,
          12,
          13,
          14,
          15,
          16,
          17,
          18,
          19,
          20,
          21
         ],
         "xaxis": "x1",
         "y": [
          -1,
          0,
          1,
          2,
          4,
          8,
          16,
          33,
          67,
          76,
          76,
          76,
          76,
          76,
          76,
          76,
          76,
          76,
          76,
          76,
          76
         ],
         "yaxis": "y1",
         "zmax": 0.1,
         "zmin": -0.1
        },
        {
         "colorbar": {
          "title": ""
         },
         "hoverinfo": "text",
         "legendgroup": "sieczne",
         "line": {
          "color": "rgba(227, 111, 71, 1.000)",
          "dash": "solid",
          "shape": "linear",
          "width": 2
         },
         "mode": "lines",
         "name": "sieczne",
         "showlegend": true,
         "text": [
          null,
          null,
          null,
          null,
          null,
          null,
          null,
          null,
          null,
          null,
          null,
          null,
          null,
          null,
          null,
          null,
          null,
          null,
          null,
          null,
          null
         ],
         "type": "scatter",
         "x": [
          1,
          2,
          3,
          4,
          5,
          6,
          7,
          8,
          9,
          10,
          11,
          12,
          13,
          14,
          15,
          16,
          17,
          18,
          19,
          20,
          21
         ],
         "xaxis": "x1",
         "y": [
          -1,
          0,
          0,
          1,
          2,
          3,
          5,
          8,
          14,
          23,
          37,
          61,
          76,
          76,
          null,
          null,
          null,
          null,
          null,
          null,
          null
         ],
         "yaxis": "y1",
         "zmax": 0.1,
         "zmin": -0.1
        },
        {
         "colorbar": {
          "title": ""
         },
         "hoverinfo": "text",
         "legendgroup": "Müller",
         "line": {
          "color": "rgba(62, 164, 78, 1.000)",
          "dash": "solid",
          "shape": "linear",
          "width": 2
         },
         "mode": "lines",
         "name": "Müller",
         "showlegend": true,
         "text": [
          null,
          null,
          null,
          null,
          null,
          null,
          null,
          null,
          null,
          null,
          null,
          null,
          null,
          null,
          null,
          null,
          null,
          null,
          null,
          null,
          null
         ],
         "type": "scatter",
         "x": [
          1,
          2,
          3,
          4,
          5,
          6,
          7,
          8,
          9,
          10,
          11,
          12,
          13,
          14,
          15,
          16,
          17,
          18,
          19,
          20,
          21
         ],
         "xaxis": "x1",
         "y": [
          -1,
          0,
          0,
          76,
          76,
          null,
          null,
          null,
          null,
          null,
          null,
          null,
          null,
          null,
          null,
          null,
          null,
          null,
          null,
          null,
          null
         ],
         "yaxis": "y1",
         "zmax": 0.1,
         "zmin": -0.1
        }
       ],
       "layout": {
        "annotations": [],
        "height": 400,
        "legend": {
         "bgcolor": "rgba(255, 255, 255, 1.000)",
         "bordercolor": "rgba(0, 0, 0, 1.000)",
         "font": {
          "color": "rgba(0, 0, 0, 1.000)",
          "family": "sans-serif",
          "size": 11
         },
         "tracegroupgap": 0,
         "x": 1,
         "y": 1
        },
        "margin": {
         "b": 20,
         "l": 0,
         "r": 0,
         "t": 20
        },
        "paper_bgcolor": "rgba(255, 255, 255, 1.000)",
        "plot_bgcolor": "rgba(255, 255, 255, 1.000)",
        "showlegend": true,
        "width": 600,
        "xaxis": {
         "anchor": "y1",
         "domain": [
          0.061654272382618835,
          0.9934383202099737
         ],
         "gridcolor": "rgba(0, 0, 0, 0.100)",
         "gridwidth": 0.5,
         "linecolor": "rgba(0, 0, 0, 1.000)",
         "mirror": false,
         "range": [
          0.4,
          21.6
         ],
         "showgrid": true,
         "showline": true,
         "showticklabels": true,
         "tickangle": 0,
         "tickcolor": "rgb(0, 0, 0)",
         "tickfont": {
          "color": "rgba(0, 0, 0, 1.000)",
          "family": "sans-serif",
          "size": 11
         },
         "tickmode": "array",
         "ticks": "inside",
         "ticktext": [
          "1",
          "2",
          "3",
          "4",
          "5",
          "6",
          "7",
          "8",
          "9",
          "10",
          "11",
          "12",
          "13",
          "14",
          "15",
          "16",
          "17",
          "18",
          "19",
          "20",
          "21"
         ],
         "tickvals": [
          1,
          2,
          3,
          4,
          5,
          6,
          7,
          8,
          9,
          10,
          11,
          12,
          13,
          14,
          15,
          16,
          17,
          18,
          19,
          20,
          21
         ],
         "title": "$n$",
         "titlefont": {
          "color": "rgba(0, 0, 0, 1.000)",
          "family": "sans-serif",
          "size": 15
         },
         "type": "-",
         "visible": true,
         "zeroline": false,
         "zerolinecolor": "rgba(0, 0, 0, 1.000)"
        },
        "yaxis": {
         "anchor": "x1",
         "domain": [
          0.07581474190726165,
          0.9901574803149606
         ],
         "gridcolor": "rgba(0, 0, 0, 0.100)",
         "gridwidth": 0.5,
         "linecolor": "rgba(0, 0, 0, 1.000)",
         "mirror": false,
         "range": [
          -3.31,
          78.31
         ],
         "showgrid": true,
         "showline": true,
         "showticklabels": true,
         "tickangle": 0,
         "tickcolor": "rgb(0, 0, 0)",
         "tickfont": {
          "color": "rgba(0, 0, 0, 1.000)",
          "family": "sans-serif",
          "size": 11
         },
         "tickmode": "array",
         "ticks": "inside",
         "ticktext": [
          "0",
          "5",
          "10",
          "15",
          "20",
          "25",
          "30",
          "35",
          "40",
          "45",
          "50",
          "55",
          "60",
          "65",
          "70",
          "75"
         ],
         "tickvals": [
          0,
          5,
          10,
          15,
          20,
          25,
          30,
          35,
          40,
          45,
          50,
          55,
          60,
          65,
          70,
          75
         ],
         "title": "$liczba\\, cyfr$",
         "titlefont": {
          "color": "rgba(0, 0, 0, 1.000)",
          "family": "sans-serif",
          "size": 15
         },
         "type": "-",
         "visible": true,
         "zeroline": false,
         "zerolinecolor": "rgba(0, 0, 0, 1.000)"
        }
       }
      },
      "text/html": [
       "    <div id=\"2ddd32bf-a864-45b5-8d5b-2e2fe9dba577\" style=\"width:600px;height:400px;\"></div>\n",
       "    <script>\n",
       "    PLOT = document.getElementById('2ddd32bf-a864-45b5-8d5b-2e2fe9dba577');\n",
       "    Plotly.plot(PLOT, [{\"xaxis\":\"x1\",\"colorbar\":{\"title\":\"\"},\"yaxis\":\"y1\",\"text\":[null,null,null,null,null,null,null,null,null,null,null,null,null,null,null,null,null,null,null,null,null],\"x\":[1,2,3,4,5,6,7,8,9,10,11,12,13,14,15,16,17,18,19,20,21],\"showlegend\":true,\"mode\":\"lines\",\"name\":\"Newton\",\"zmin\":-0.1,\"legendgroup\":\"Newton\",\"zmax\":0.1,\"line\":{\"color\":\"rgba(0, 154, 250, 1.000)\",\"shape\":\"linear\",\"dash\":\"solid\",\"width\":2.0},\"y\":[-1.0,0.0,1.0,2.0,4.0,8.0,16.0,33.0,67.0,76.0,76.0,76.0,76.0,76.0,76.0,76.0,76.0,76.0,76.0,76.0,76.0],\"type\":\"scatter\",\"hoverinfo\":\"text\"},{\"xaxis\":\"x1\",\"colorbar\":{\"title\":\"\"},\"yaxis\":\"y1\",\"text\":[null,null,null,null,null,null,null,null,null,null,null,null,null,null,null,null,null,null,null,null,null],\"x\":[1,2,3,4,5,6,7,8,9,10,11,12,13,14,15,16,17,18,19,20,21],\"showlegend\":true,\"mode\":\"lines\",\"name\":\"sieczne\",\"zmin\":-0.1,\"legendgroup\":\"sieczne\",\"zmax\":0.1,\"line\":{\"color\":\"rgba(227, 111, 71, 1.000)\",\"shape\":\"linear\",\"dash\":\"solid\",\"width\":2.0},\"y\":[-1.0,0.0,0.0,1.0,2.0,3.0,5.0,8.0,14.0,23.0,37.0,61.0,76.0,76.0,null,null,null,null,null,null,null],\"type\":\"scatter\",\"hoverinfo\":\"text\"},{\"xaxis\":\"x1\",\"colorbar\":{\"title\":\"\"},\"yaxis\":\"y1\",\"text\":[null,null,null,null,null,null,null,null,null,null,null,null,null,null,null,null,null,null,null,null,null],\"x\":[1,2,3,4,5,6,7,8,9,10,11,12,13,14,15,16,17,18,19,20,21],\"showlegend\":true,\"mode\":\"lines\",\"name\":\"Müller\",\"zmin\":-0.1,\"legendgroup\":\"Müller\",\"zmax\":0.1,\"line\":{\"color\":\"rgba(62, 164, 78, 1.000)\",\"shape\":\"linear\",\"dash\":\"solid\",\"width\":2.0},\"y\":[-1.0,0.0,0.0,76.0,76.0,null,null,null,null,null,null,null,null,null,null,null,null,null,null,null,null],\"type\":\"scatter\",\"hoverinfo\":\"text\"}], {\"showlegend\":true,\"xaxis\":{\"showticklabels\":true,\"gridwidth\":0.5,\"tickvals\":[1.0,2.0,3.0,4.0,5.0,6.0,7.0,8.0,9.0,10.0,11.0,12.0,13.0,14.0,15.0,16.0,17.0,18.0,19.0,20.0,21.0],\"visible\":true,\"ticks\":\"inside\",\"range\":[0.4,21.6],\"domain\":[0.061654272382618835,0.9934383202099737],\"tickmode\":\"array\",\"linecolor\":\"rgba(0, 0, 0, 1.000)\",\"showgrid\":true,\"title\":\"$n$\",\"mirror\":false,\"tickangle\":0,\"showline\":true,\"gridcolor\":\"rgba(0, 0, 0, 0.100)\",\"titlefont\":{\"color\":\"rgba(0, 0, 0, 1.000)\",\"family\":\"sans-serif\",\"size\":15},\"tickcolor\":\"rgb(0, 0, 0)\",\"ticktext\":[\"1\",\"2\",\"3\",\"4\",\"5\",\"6\",\"7\",\"8\",\"9\",\"10\",\"11\",\"12\",\"13\",\"14\",\"15\",\"16\",\"17\",\"18\",\"19\",\"20\",\"21\"],\"zeroline\":false,\"type\":\"-\",\"tickfont\":{\"color\":\"rgba(0, 0, 0, 1.000)\",\"family\":\"sans-serif\",\"size\":11},\"zerolinecolor\":\"rgba(0, 0, 0, 1.000)\",\"anchor\":\"y1\"},\"paper_bgcolor\":\"rgba(255, 255, 255, 1.000)\",\"annotations\":[],\"height\":400,\"margin\":{\"l\":0,\"b\":20,\"r\":0,\"t\":20},\"plot_bgcolor\":\"rgba(255, 255, 255, 1.000)\",\"yaxis\":{\"showticklabels\":true,\"gridwidth\":0.5,\"tickvals\":[0.0,5.0,10.0,15.0,20.0,25.0,30.0,35.0,40.0,45.0,50.0,55.0,60.0,65.0,70.0,75.0],\"visible\":true,\"ticks\":\"inside\",\"range\":[-3.31,78.31],\"domain\":[0.07581474190726165,0.9901574803149606],\"tickmode\":\"array\",\"linecolor\":\"rgba(0, 0, 0, 1.000)\",\"showgrid\":true,\"title\":\"$liczba\\\\, cyfr$\",\"mirror\":false,\"tickangle\":0,\"showline\":true,\"gridcolor\":\"rgba(0, 0, 0, 0.100)\",\"titlefont\":{\"color\":\"rgba(0, 0, 0, 1.000)\",\"family\":\"sans-serif\",\"size\":15},\"tickcolor\":\"rgb(0, 0, 0)\",\"ticktext\":[\"0\",\"5\",\"10\",\"15\",\"20\",\"25\",\"30\",\"35\",\"40\",\"45\",\"50\",\"55\",\"60\",\"65\",\"70\",\"75\"],\"zeroline\":false,\"type\":\"-\",\"tickfont\":{\"color\":\"rgba(0, 0, 0, 1.000)\",\"family\":\"sans-serif\",\"size\":11},\"zerolinecolor\":\"rgba(0, 0, 0, 1.000)\",\"anchor\":\"x1\"},\"legend\":{\"tracegroupgap\":0,\"bordercolor\":\"rgba(0, 0, 0, 1.000)\",\"bgcolor\":\"rgba(255, 255, 255, 1.000)\",\"font\":{\"color\":\"rgba(0, 0, 0, 1.000)\",\"family\":\"sans-serif\",\"size\":11},\"y\":1.0,\"x\":1.0},\"width\":600});\n",
       "    </script>\n"
      ]
     },
     "execution_count": 9,
     "metadata": {},
     "output_type": "execute_result"
    }
   ],
   "source": [
    "f0(x) = x^2.0 - 3.0x + 2.0\n",
    "df0(x) = 2.0x - 3.0\n",
    "f0_zero = BigFloat(1.0)\n",
    "x0_0 = BigFloat(-0.2)\n",
    "@assert(f0(f0_zero) == 0.0)\n",
    "test_methods(f0, df0, x0_0, f0_zero, 20)"
   ]
  },
  {
   "cell_type": "code",
   "execution_count": 10,
   "metadata": {},
   "outputs": [
    {
     "name": "stdout",
     "output_type": "stream",
     "text": [
      "Wyniki dla metody Newtona:\n",
      "\n",
      "n=000 --- 0.0\n",
      "n=001 --- 2.0\n",
      "n=002 --- 5.0\n",
      "n=003 --- 1.1e+01\n",
      "n=004 --- 2.3e+01\n",
      "n=005 --- 4.7e+01\n",
      "n=006 --- Inf\n",
      "==========================================\n",
      "Wyniki dla metody siecznych:\n",
      "\n",
      "n=000 --- 0.0\n",
      "n=001 --- 2.0\n",
      "n=002 --- 3.0\n",
      "n=003 --- 6.0\n",
      "n=004 --- 1.1e+01\n",
      "n=005 --- 1.9e+01\n",
      "n=006 --- 3.1e+01\n",
      "n=007 --- 5.1e+01\n",
      "n=008 --- Inf\n",
      "n=009 --- Inf\n",
      "==========================================\n",
      "Wyniki dla metody Müllera:\n",
      "\n",
      "n=000 --- 0.0\n",
      "n=001 --- 2.0\n",
      "n=002 --- 3.0\n",
      "n=003 --- 8.0\n",
      "n=004 --- 1.5e+01\n",
      "n=005 --- 2.8e+01\n",
      "n=006 --- 5.3e+01\n",
      "n=007 --- Inf\n",
      "n=008 --- Inf\n",
      "==========================================\n"
     ]
    },
    {
     "data": {
      "application/vnd.plotly.v1+json": {
       "data": [
        {
         "colorbar": {
          "title": ""
         },
         "hoverinfo": "text",
         "legendgroup": "Newton",
         "line": {
          "color": "rgba(0, 154, 250, 1.000)",
          "dash": "solid",
          "shape": "linear",
          "width": 2
         },
         "mode": "lines",
         "name": "Newton",
         "showlegend": true,
         "text": [
          null,
          null,
          null,
          null,
          null,
          null,
          null,
          null,
          null,
          null
         ],
         "type": "scatter",
         "x": [
          1,
          2,
          3,
          4,
          5,
          6,
          7,
          8,
          9,
          10
         ],
         "xaxis": "x1",
         "y": [
          0,
          2,
          5,
          11,
          23,
          47,
          null,
          null,
          null,
          null
         ],
         "yaxis": "y1",
         "zmax": 0.1,
         "zmin": -0.1
        },
        {
         "colorbar": {
          "title": ""
         },
         "hoverinfo": "text",
         "legendgroup": "sieczne",
         "line": {
          "color": "rgba(227, 111, 71, 1.000)",
          "dash": "solid",
          "shape": "linear",
          "width": 2
         },
         "mode": "lines",
         "name": "sieczne",
         "showlegend": true,
         "text": [
          null,
          null,
          null,
          null,
          null,
          null,
          null,
          null,
          null,
          null
         ],
         "type": "scatter",
         "x": [
          1,
          2,
          3,
          4,
          5,
          6,
          7,
          8,
          9,
          10
         ],
         "xaxis": "x1",
         "y": [
          0,
          2,
          3,
          6,
          11,
          19,
          31,
          51,
          null,
          null
         ],
         "yaxis": "y1",
         "zmax": 0.1,
         "zmin": -0.1
        },
        {
         "colorbar": {
          "title": ""
         },
         "hoverinfo": "text",
         "legendgroup": "Müller",
         "line": {
          "color": "rgba(62, 164, 78, 1.000)",
          "dash": "solid",
          "shape": "linear",
          "width": 2
         },
         "mode": "lines",
         "name": "Müller",
         "showlegend": true,
         "text": [
          null,
          null,
          null,
          null,
          null,
          null,
          null,
          null,
          null,
          null
         ],
         "type": "scatter",
         "x": [
          1,
          2,
          3,
          4,
          5,
          6,
          7,
          8,
          9,
          10
         ],
         "xaxis": "x1",
         "y": [
          0,
          2,
          3,
          8,
          15,
          28,
          53,
          null,
          null,
          null
         ],
         "yaxis": "y1",
         "zmax": 0.1,
         "zmin": -0.1
        }
       ],
       "layout": {
        "annotations": [],
        "height": 400,
        "legend": {
         "bgcolor": "rgba(255, 255, 255, 1.000)",
         "bordercolor": "rgba(0, 0, 0, 1.000)",
         "font": {
          "color": "rgba(0, 0, 0, 1.000)",
          "family": "sans-serif",
          "size": 11
         },
         "tracegroupgap": 0,
         "x": 1,
         "y": 1
        },
        "margin": {
         "b": 20,
         "l": 0,
         "r": 0,
         "t": 20
        },
        "paper_bgcolor": "rgba(255, 255, 255, 1.000)",
        "plot_bgcolor": "rgba(255, 255, 255, 1.000)",
        "showlegend": true,
        "width": 600,
        "xaxis": {
         "anchor": "y1",
         "domain": [
          0.061654272382618835,
          0.9934383202099737
         ],
         "gridcolor": "rgba(0, 0, 0, 0.100)",
         "gridwidth": 0.5,
         "linecolor": "rgba(0, 0, 0, 1.000)",
         "mirror": false,
         "range": [
          0.73,
          10.27
         ],
         "showgrid": true,
         "showline": true,
         "showticklabels": true,
         "tickangle": 0,
         "tickcolor": "rgb(0, 0, 0)",
         "tickfont": {
          "color": "rgba(0, 0, 0, 1.000)",
          "family": "sans-serif",
          "size": 11
         },
         "tickmode": "array",
         "ticks": "inside",
         "ticktext": [
          "1",
          "2",
          "3",
          "4",
          "5",
          "6",
          "7",
          "8",
          "9",
          "10"
         ],
         "tickvals": [
          1,
          2,
          3,
          4,
          5,
          6,
          7,
          8,
          9,
          10
         ],
         "title": "$n$",
         "titlefont": {
          "color": "rgba(0, 0, 0, 1.000)",
          "family": "sans-serif",
          "size": 15
         },
         "type": "-",
         "visible": true,
         "zeroline": false,
         "zerolinecolor": "rgba(0, 0, 0, 1.000)"
        },
        "yaxis": {
         "anchor": "x1",
         "domain": [
          0.07581474190726165,
          0.9901574803149606
         ],
         "gridcolor": "rgba(0, 0, 0, 0.100)",
         "gridwidth": 0.5,
         "linecolor": "rgba(0, 0, 0, 1.000)",
         "mirror": false,
         "range": [
          -1.5899999999999999,
          54.59
         ],
         "showgrid": true,
         "showline": true,
         "showticklabels": true,
         "tickangle": 0,
         "tickcolor": "rgb(0, 0, 0)",
         "tickfont": {
          "color": "rgba(0, 0, 0, 1.000)",
          "family": "sans-serif",
          "size": 11
         },
         "tickmode": "array",
         "ticks": "inside",
         "ticktext": [
          "0",
          "5",
          "10",
          "15",
          "20",
          "25",
          "30",
          "35",
          "40",
          "45",
          "50"
         ],
         "tickvals": [
          0,
          5,
          10,
          15,
          20,
          25,
          30,
          35,
          40,
          45,
          50
         ],
         "title": "$liczba\\, cyfr$",
         "titlefont": {
          "color": "rgba(0, 0, 0, 1.000)",
          "family": "sans-serif",
          "size": 15
         },
         "type": "-",
         "visible": true,
         "zeroline": false,
         "zerolinecolor": "rgba(0, 0, 0, 1.000)"
        }
       }
      },
      "text/html": [
       "    <div id=\"47ce7259-d04f-40de-9638-75cc8965b76d\" style=\"width:600px;height:400px;\"></div>\n",
       "    <script>\n",
       "    PLOT = document.getElementById('47ce7259-d04f-40de-9638-75cc8965b76d');\n",
       "    Plotly.plot(PLOT, [{\"xaxis\":\"x1\",\"colorbar\":{\"title\":\"\"},\"yaxis\":\"y1\",\"text\":[null,null,null,null,null,null,null,null,null,null],\"x\":[1,2,3,4,5,6,7,8,9,10],\"showlegend\":true,\"mode\":\"lines\",\"name\":\"Newton\",\"zmin\":-0.1,\"legendgroup\":\"Newton\",\"zmax\":0.1,\"line\":{\"color\":\"rgba(0, 154, 250, 1.000)\",\"shape\":\"linear\",\"dash\":\"solid\",\"width\":2.0},\"y\":[0.0,2.0,5.0,11.0,23.0,47.0,null,null,null,null],\"type\":\"scatter\",\"hoverinfo\":\"text\"},{\"xaxis\":\"x1\",\"colorbar\":{\"title\":\"\"},\"yaxis\":\"y1\",\"text\":[null,null,null,null,null,null,null,null,null,null],\"x\":[1,2,3,4,5,6,7,8,9,10],\"showlegend\":true,\"mode\":\"lines\",\"name\":\"sieczne\",\"zmin\":-0.1,\"legendgroup\":\"sieczne\",\"zmax\":0.1,\"line\":{\"color\":\"rgba(227, 111, 71, 1.000)\",\"shape\":\"linear\",\"dash\":\"solid\",\"width\":2.0},\"y\":[0.0,2.0,3.0,6.0,11.0,19.0,31.0,51.0,null,null],\"type\":\"scatter\",\"hoverinfo\":\"text\"},{\"xaxis\":\"x1\",\"colorbar\":{\"title\":\"\"},\"yaxis\":\"y1\",\"text\":[null,null,null,null,null,null,null,null,null,null],\"x\":[1,2,3,4,5,6,7,8,9,10],\"showlegend\":true,\"mode\":\"lines\",\"name\":\"Müller\",\"zmin\":-0.1,\"legendgroup\":\"Müller\",\"zmax\":0.1,\"line\":{\"color\":\"rgba(62, 164, 78, 1.000)\",\"shape\":\"linear\",\"dash\":\"solid\",\"width\":2.0},\"y\":[0.0,2.0,3.0,8.0,15.0,28.0,53.0,null,null,null],\"type\":\"scatter\",\"hoverinfo\":\"text\"}], {\"showlegend\":true,\"xaxis\":{\"showticklabels\":true,\"gridwidth\":0.5,\"tickvals\":[1.0,2.0,3.0,4.0,5.0,6.0,7.0,8.0,9.0,10.0],\"visible\":true,\"ticks\":\"inside\",\"range\":[0.73,10.27],\"domain\":[0.061654272382618835,0.9934383202099737],\"tickmode\":\"array\",\"linecolor\":\"rgba(0, 0, 0, 1.000)\",\"showgrid\":true,\"title\":\"$n$\",\"mirror\":false,\"tickangle\":0,\"showline\":true,\"gridcolor\":\"rgba(0, 0, 0, 0.100)\",\"titlefont\":{\"color\":\"rgba(0, 0, 0, 1.000)\",\"family\":\"sans-serif\",\"size\":15},\"tickcolor\":\"rgb(0, 0, 0)\",\"ticktext\":[\"1\",\"2\",\"3\",\"4\",\"5\",\"6\",\"7\",\"8\",\"9\",\"10\"],\"zeroline\":false,\"type\":\"-\",\"tickfont\":{\"color\":\"rgba(0, 0, 0, 1.000)\",\"family\":\"sans-serif\",\"size\":11},\"zerolinecolor\":\"rgba(0, 0, 0, 1.000)\",\"anchor\":\"y1\"},\"paper_bgcolor\":\"rgba(255, 255, 255, 1.000)\",\"annotations\":[],\"height\":400,\"margin\":{\"l\":0,\"b\":20,\"r\":0,\"t\":20},\"plot_bgcolor\":\"rgba(255, 255, 255, 1.000)\",\"yaxis\":{\"showticklabels\":true,\"gridwidth\":0.5,\"tickvals\":[0.0,5.0,10.0,15.0,20.0,25.0,30.0,35.0,40.0,45.0,50.0],\"visible\":true,\"ticks\":\"inside\",\"range\":[-1.5899999999999999,54.59],\"domain\":[0.07581474190726165,0.9901574803149606],\"tickmode\":\"array\",\"linecolor\":\"rgba(0, 0, 0, 1.000)\",\"showgrid\":true,\"title\":\"$liczba\\\\, cyfr$\",\"mirror\":false,\"tickangle\":0,\"showline\":true,\"gridcolor\":\"rgba(0, 0, 0, 0.100)\",\"titlefont\":{\"color\":\"rgba(0, 0, 0, 1.000)\",\"family\":\"sans-serif\",\"size\":15},\"tickcolor\":\"rgb(0, 0, 0)\",\"ticktext\":[\"0\",\"5\",\"10\",\"15\",\"20\",\"25\",\"30\",\"35\",\"40\",\"45\",\"50\"],\"zeroline\":false,\"type\":\"-\",\"tickfont\":{\"color\":\"rgba(0, 0, 0, 1.000)\",\"family\":\"sans-serif\",\"size\":11},\"zerolinecolor\":\"rgba(0, 0, 0, 1.000)\",\"anchor\":\"x1\"},\"legend\":{\"tracegroupgap\":0,\"bordercolor\":\"rgba(0, 0, 0, 1.000)\",\"bgcolor\":\"rgba(255, 255, 255, 1.000)\",\"font\":{\"color\":\"rgba(0, 0, 0, 1.000)\",\"family\":\"sans-serif\",\"size\":11},\"y\":1.0,\"x\":1.0},\"width\":600});\n",
       "    </script>\n"
      ]
     },
     "execution_count": 10,
     "metadata": {},
     "output_type": "execute_result"
    }
   ],
   "source": [
    "f1(x) = sqrt(x)-4\n",
    "df1(x) = 0.5*x^(-1.0/2.0)\n",
    "f1_zero = 16.0\n",
    "x0_1 = BigFloat(18.0)\n",
    "@assert(f1(f1_zero) == 0.0, f1(f1_zero))\n",
    "test_methods(f1, df1, x0_1, f1_zero, 20)"
   ]
  },
  {
   "cell_type": "code",
   "execution_count": 11,
   "metadata": {},
   "outputs": [
    {
     "name": "stdout",
     "output_type": "stream",
     "text": [
      "Wyniki dla metody Newtona:\n",
      "\n",
      "n=000 --- 0.0\n",
      "n=001 --- 1.0\n",
      "n=002 --- 1.0\n",
      "n=003 --- 2.0\n",
      "n=004 --- 5.0\n",
      "n=005 --- 9.0\n",
      "n=006 --- 1.9e+01\n",
      "n=007 --- 3.7e+01\n",
      "n=008 --- 7.4e+01\n",
      "n=009 --- Inf\n",
      "==========================================\n",
      "Wyniki dla metody siecznych:\n",
      "\n",
      "n=000 --- 0.0\n",
      "n=001 --- 1.0\n",
      "n=002 --- 1.0\n",
      "n=003 --- 2.0\n",
      "n=004 --- 2.0\n",
      "n=005 --- 4.0\n",
      "n=006 --- 6.0\n",
      "n=007 --- 9.0\n",
      "n=008 --- 1.5e+01\n",
      "n=009 --- 2.4e+01\n",
      "n=010 --- 3.8e+01\n",
      "n=011 --- 6.1e+01\n",
      "n=012 --- Inf\n",
      "n=013 --- Inf\n",
      "==========================================\n",
      "Wyniki dla metody Müllera:\n",
      "\n",
      "n=000 --- 0.0\n",
      "n=001 --- 1.0\n",
      "n=002 --- 1.0\n",
      "n=003 --- 2.0\n",
      "n=004 --- 4.0\n",
      "n=005 --- 8.0\n",
      "n=006 --- 1.5e+01\n",
      "n=007 --- 2.8e+01\n",
      "n=008 --- 5.2e+01\n",
      "n=009 --- Inf\n",
      "n=010 --- Inf\n",
      "==========================================\n"
     ]
    },
    {
     "data": {
      "application/vnd.plotly.v1+json": {
       "data": [
        {
         "colorbar": {
          "title": ""
         },
         "hoverinfo": "text",
         "legendgroup": "Newton",
         "line": {
          "color": "rgba(0, 154, 250, 1.000)",
          "dash": "solid",
          "shape": "linear",
          "width": 2
         },
         "mode": "lines",
         "name": "Newton",
         "showlegend": true,
         "text": [
          null,
          null,
          null,
          null,
          null,
          null,
          null,
          null,
          null,
          null,
          null,
          null,
          null,
          null
         ],
         "type": "scatter",
         "x": [
          1,
          2,
          3,
          4,
          5,
          6,
          7,
          8,
          9,
          10,
          11,
          12,
          13,
          14
         ],
         "xaxis": "x1",
         "y": [
          0,
          1,
          1,
          2,
          5,
          9,
          19,
          37,
          74,
          null,
          null,
          null,
          null,
          null
         ],
         "yaxis": "y1",
         "zmax": 0.1,
         "zmin": -0.1
        },
        {
         "colorbar": {
          "title": ""
         },
         "hoverinfo": "text",
         "legendgroup": "sieczne",
         "line": {
          "color": "rgba(227, 111, 71, 1.000)",
          "dash": "solid",
          "shape": "linear",
          "width": 2
         },
         "mode": "lines",
         "name": "sieczne",
         "showlegend": true,
         "text": [
          null,
          null,
          null,
          null,
          null,
          null,
          null,
          null,
          null,
          null,
          null,
          null,
          null,
          null
         ],
         "type": "scatter",
         "x": [
          1,
          2,
          3,
          4,
          5,
          6,
          7,
          8,
          9,
          10,
          11,
          12,
          13,
          14
         ],
         "xaxis": "x1",
         "y": [
          0,
          1,
          1,
          2,
          2,
          4,
          6,
          9,
          15,
          24,
          38,
          61,
          null,
          null
         ],
         "yaxis": "y1",
         "zmax": 0.1,
         "zmin": -0.1
        },
        {
         "colorbar": {
          "title": ""
         },
         "hoverinfo": "text",
         "legendgroup": "Müller",
         "line": {
          "color": "rgba(62, 164, 78, 1.000)",
          "dash": "solid",
          "shape": "linear",
          "width": 2
         },
         "mode": "lines",
         "name": "Müller",
         "showlegend": true,
         "text": [
          null,
          null,
          null,
          null,
          null,
          null,
          null,
          null,
          null,
          null,
          null,
          null,
          null,
          null
         ],
         "type": "scatter",
         "x": [
          1,
          2,
          3,
          4,
          5,
          6,
          7,
          8,
          9,
          10,
          11,
          12,
          13,
          14
         ],
         "xaxis": "x1",
         "y": [
          0,
          1,
          1,
          2,
          4,
          8,
          15,
          28,
          52,
          null,
          null,
          null,
          null,
          null
         ],
         "yaxis": "y1",
         "zmax": 0.1,
         "zmin": -0.1
        }
       ],
       "layout": {
        "annotations": [],
        "height": 400,
        "legend": {
         "bgcolor": "rgba(255, 255, 255, 1.000)",
         "bordercolor": "rgba(0, 0, 0, 1.000)",
         "font": {
          "color": "rgba(0, 0, 0, 1.000)",
          "family": "sans-serif",
          "size": 11
         },
         "tracegroupgap": 0,
         "x": 1,
         "y": 1
        },
        "margin": {
         "b": 20,
         "l": 0,
         "r": 0,
         "t": 20
        },
        "paper_bgcolor": "rgba(255, 255, 255, 1.000)",
        "plot_bgcolor": "rgba(255, 255, 255, 1.000)",
        "showlegend": true,
        "width": 600,
        "xaxis": {
         "anchor": "y1",
         "domain": [
          0.061654272382618835,
          0.9934383202099737
         ],
         "gridcolor": "rgba(0, 0, 0, 0.100)",
         "gridwidth": 0.5,
         "linecolor": "rgba(0, 0, 0, 1.000)",
         "mirror": false,
         "range": [
          0.61,
          14.39
         ],
         "showgrid": true,
         "showline": true,
         "showticklabels": true,
         "tickangle": 0,
         "tickcolor": "rgb(0, 0, 0)",
         "tickfont": {
          "color": "rgba(0, 0, 0, 1.000)",
          "family": "sans-serif",
          "size": 11
         },
         "tickmode": "array",
         "ticks": "inside",
         "ticktext": [
          "1",
          "2",
          "3",
          "4",
          "5",
          "6",
          "7",
          "8",
          "9",
          "10",
          "11",
          "12",
          "13",
          "14"
         ],
         "tickvals": [
          1,
          2,
          3,
          4,
          5,
          6,
          7,
          8,
          9,
          10,
          11,
          12,
          13,
          14
         ],
         "title": "$n$",
         "titlefont": {
          "color": "rgba(0, 0, 0, 1.000)",
          "family": "sans-serif",
          "size": 15
         },
         "type": "-",
         "visible": true,
         "zeroline": false,
         "zerolinecolor": "rgba(0, 0, 0, 1.000)"
        },
        "yaxis": {
         "anchor": "x1",
         "domain": [
          0.07581474190726165,
          0.9901574803149606
         ],
         "gridcolor": "rgba(0, 0, 0, 0.100)",
         "gridwidth": 0.5,
         "linecolor": "rgba(0, 0, 0, 1.000)",
         "mirror": false,
         "range": [
          -2.2199999999999998,
          76.22
         ],
         "showgrid": true,
         "showline": true,
         "showticklabels": true,
         "tickangle": 0,
         "tickcolor": "rgb(0, 0, 0)",
         "tickfont": {
          "color": "rgba(0, 0, 0, 1.000)",
          "family": "sans-serif",
          "size": 11
         },
         "tickmode": "array",
         "ticks": "inside",
         "ticktext": [
          "0",
          "5",
          "10",
          "15",
          "20",
          "25",
          "30",
          "35",
          "40",
          "45",
          "50",
          "55",
          "60",
          "65",
          "70",
          "75"
         ],
         "tickvals": [
          0,
          5,
          10,
          15,
          20,
          25,
          30,
          35,
          40,
          45,
          50,
          55,
          60,
          65,
          70,
          75
         ],
         "title": "$liczba\\, cyfr$",
         "titlefont": {
          "color": "rgba(0, 0, 0, 1.000)",
          "family": "sans-serif",
          "size": 15
         },
         "type": "-",
         "visible": true,
         "zeroline": false,
         "zerolinecolor": "rgba(0, 0, 0, 1.000)"
        }
       }
      },
      "text/html": [
       "    <div id=\"19b3a0a9-4058-47ac-90cd-4979f79ae4a3\" style=\"width:600px;height:400px;\"></div>\n",
       "    <script>\n",
       "    PLOT = document.getElementById('19b3a0a9-4058-47ac-90cd-4979f79ae4a3');\n",
       "    Plotly.plot(PLOT, [{\"xaxis\":\"x1\",\"colorbar\":{\"title\":\"\"},\"yaxis\":\"y1\",\"text\":[null,null,null,null,null,null,null,null,null,null,null,null,null,null],\"x\":[1,2,3,4,5,6,7,8,9,10,11,12,13,14],\"showlegend\":true,\"mode\":\"lines\",\"name\":\"Newton\",\"zmin\":-0.1,\"legendgroup\":\"Newton\",\"zmax\":0.1,\"line\":{\"color\":\"rgba(0, 154, 250, 1.000)\",\"shape\":\"linear\",\"dash\":\"solid\",\"width\":2.0},\"y\":[0.0,1.0,1.0,2.0,5.0,9.0,19.0,37.0,74.0,null,null,null,null,null],\"type\":\"scatter\",\"hoverinfo\":\"text\"},{\"xaxis\":\"x1\",\"colorbar\":{\"title\":\"\"},\"yaxis\":\"y1\",\"text\":[null,null,null,null,null,null,null,null,null,null,null,null,null,null],\"x\":[1,2,3,4,5,6,7,8,9,10,11,12,13,14],\"showlegend\":true,\"mode\":\"lines\",\"name\":\"sieczne\",\"zmin\":-0.1,\"legendgroup\":\"sieczne\",\"zmax\":0.1,\"line\":{\"color\":\"rgba(227, 111, 71, 1.000)\",\"shape\":\"linear\",\"dash\":\"solid\",\"width\":2.0},\"y\":[0.0,1.0,1.0,2.0,2.0,4.0,6.0,9.0,15.0,24.0,38.0,61.0,null,null],\"type\":\"scatter\",\"hoverinfo\":\"text\"},{\"xaxis\":\"x1\",\"colorbar\":{\"title\":\"\"},\"yaxis\":\"y1\",\"text\":[null,null,null,null,null,null,null,null,null,null,null,null,null,null],\"x\":[1,2,3,4,5,6,7,8,9,10,11,12,13,14],\"showlegend\":true,\"mode\":\"lines\",\"name\":\"Müller\",\"zmin\":-0.1,\"legendgroup\":\"Müller\",\"zmax\":0.1,\"line\":{\"color\":\"rgba(62, 164, 78, 1.000)\",\"shape\":\"linear\",\"dash\":\"solid\",\"width\":2.0},\"y\":[0.0,1.0,1.0,2.0,4.0,8.0,15.0,28.0,52.0,null,null,null,null,null],\"type\":\"scatter\",\"hoverinfo\":\"text\"}], {\"showlegend\":true,\"xaxis\":{\"showticklabels\":true,\"gridwidth\":0.5,\"tickvals\":[1.0,2.0,3.0,4.0,5.0,6.0,7.0,8.0,9.0,10.0,11.0,12.0,13.0,14.0],\"visible\":true,\"ticks\":\"inside\",\"range\":[0.61,14.39],\"domain\":[0.061654272382618835,0.9934383202099737],\"tickmode\":\"array\",\"linecolor\":\"rgba(0, 0, 0, 1.000)\",\"showgrid\":true,\"title\":\"$n$\",\"mirror\":false,\"tickangle\":0,\"showline\":true,\"gridcolor\":\"rgba(0, 0, 0, 0.100)\",\"titlefont\":{\"color\":\"rgba(0, 0, 0, 1.000)\",\"family\":\"sans-serif\",\"size\":15},\"tickcolor\":\"rgb(0, 0, 0)\",\"ticktext\":[\"1\",\"2\",\"3\",\"4\",\"5\",\"6\",\"7\",\"8\",\"9\",\"10\",\"11\",\"12\",\"13\",\"14\"],\"zeroline\":false,\"type\":\"-\",\"tickfont\":{\"color\":\"rgba(0, 0, 0, 1.000)\",\"family\":\"sans-serif\",\"size\":11},\"zerolinecolor\":\"rgba(0, 0, 0, 1.000)\",\"anchor\":\"y1\"},\"paper_bgcolor\":\"rgba(255, 255, 255, 1.000)\",\"annotations\":[],\"height\":400,\"margin\":{\"l\":0,\"b\":20,\"r\":0,\"t\":20},\"plot_bgcolor\":\"rgba(255, 255, 255, 1.000)\",\"yaxis\":{\"showticklabels\":true,\"gridwidth\":0.5,\"tickvals\":[0.0,5.0,10.0,15.0,20.0,25.0,30.0,35.0,40.0,45.0,50.0,55.0,60.0,65.0,70.0,75.0],\"visible\":true,\"ticks\":\"inside\",\"range\":[-2.2199999999999998,76.22],\"domain\":[0.07581474190726165,0.9901574803149606],\"tickmode\":\"array\",\"linecolor\":\"rgba(0, 0, 0, 1.000)\",\"showgrid\":true,\"title\":\"$liczba\\\\, cyfr$\",\"mirror\":false,\"tickangle\":0,\"showline\":true,\"gridcolor\":\"rgba(0, 0, 0, 0.100)\",\"titlefont\":{\"color\":\"rgba(0, 0, 0, 1.000)\",\"family\":\"sans-serif\",\"size\":15},\"tickcolor\":\"rgb(0, 0, 0)\",\"ticktext\":[\"0\",\"5\",\"10\",\"15\",\"20\",\"25\",\"30\",\"35\",\"40\",\"45\",\"50\",\"55\",\"60\",\"65\",\"70\",\"75\"],\"zeroline\":false,\"type\":\"-\",\"tickfont\":{\"color\":\"rgba(0, 0, 0, 1.000)\",\"family\":\"sans-serif\",\"size\":11},\"zerolinecolor\":\"rgba(0, 0, 0, 1.000)\",\"anchor\":\"x1\"},\"legend\":{\"tracegroupgap\":0,\"bordercolor\":\"rgba(0, 0, 0, 1.000)\",\"bgcolor\":\"rgba(255, 255, 255, 1.000)\",\"font\":{\"color\":\"rgba(0, 0, 0, 1.000)\",\"family\":\"sans-serif\",\"size\":11},\"y\":1.0,\"x\":1.0},\"width\":600});\n",
       "    </script>\n"
      ]
     },
     "execution_count": 11,
     "metadata": {},
     "output_type": "execute_result"
    }
   ],
   "source": [
    "f2(x) = (x-1.0)*(x-2.0)*(2x-3.0)*(x-4.0)\n",
    "df2(x) = 8.0(x^3.0 - 6.375x^2 + 12.25x - 7.25)\n",
    "f2_zero = 2.0\n",
    "x0_2 = BigFloat(3.0)\n",
    "@assert(f2(f2_zero) == 0.0, f2(f2_zero))\n",
    "test_methods(f2, df2, x0_2, f2_zero, 20)"
   ]
  },
  {
   "cell_type": "code",
   "execution_count": 12,
   "metadata": {},
   "outputs": [
    {
     "name": "stdout",
     "output_type": "stream",
     "text": [
      "Wyniki dla metody Newtona:\n",
      "\n",
      "n=000 --- 0.0\n",
      "n=001 --- 0.0\n",
      "n=002 --- 0.0\n",
      "n=003 --- 1.0\n",
      "n=004 --- 3.0\n",
      "n=005 --- 7.0\n",
      "n=006 --- 1.5e+01\n",
      "n=007 --- 3.0e+01\n",
      "n=008 --- 4.7e+01\n",
      "n=009 --- 6.4e+01\n",
      "n=010 --- Inf\n",
      "==========================================\n",
      "Wyniki dla metody siecznych:\n",
      "\n",
      "n=000 --- 0.0\n",
      "n=001 --- 0.0\n",
      "n=002 --- 0.0\n",
      "n=003 --- 0.0\n",
      "n=004 --- 1.0\n",
      "n=005 --- 2.0\n",
      "n=006 --- 4.0\n",
      "n=007 --- 7.0\n",
      "n=008 --- 1.2e+01\n",
      "n=009 --- 2.0e+01\n",
      "n=010 --- 3.3e+01\n",
      "n=011 --- 5.4e+01\n",
      "n=012 --- Inf\n",
      "n=013 --- Inf\n",
      "==========================================\n",
      "Wyniki dla metody Müllera:\n",
      "\n",
      "n=000 --- 0.0\n",
      "n=001 --- 0.0\n",
      "n=002 --- 0.0\n",
      "n=003 --- 1.0\n",
      "n=004 --- 2.0\n",
      "n=005 --- 5.0\n",
      "n=006 --- 1.0e+01\n",
      "n=007 --- 2.0e+01\n",
      "n=008 --- 3.7e+01\n",
      "n=009 --- 6.9e+01\n",
      "n=010 --- Inf\n",
      "n=011 --- Inf\n",
      "==========================================\n"
     ]
    },
    {
     "data": {
      "application/vnd.plotly.v1+json": {
       "data": [
        {
         "colorbar": {
          "title": ""
         },
         "hoverinfo": "text",
         "legendgroup": "Newton",
         "line": {
          "color": "rgba(0, 154, 250, 1.000)",
          "dash": "solid",
          "shape": "linear",
          "width": 2
         },
         "mode": "lines",
         "name": "Newton",
         "showlegend": true,
         "text": [
          null,
          null,
          null,
          null,
          null,
          null,
          null,
          null,
          null,
          null,
          null,
          null,
          null,
          null
         ],
         "type": "scatter",
         "x": [
          1,
          2,
          3,
          4,
          5,
          6,
          7,
          8,
          9,
          10,
          11,
          12,
          13,
          14
         ],
         "xaxis": "x1",
         "y": [
          0,
          0,
          0,
          1,
          3,
          7,
          15,
          30,
          47,
          64,
          null,
          null,
          null,
          null
         ],
         "yaxis": "y1",
         "zmax": 0.1,
         "zmin": -0.1
        },
        {
         "colorbar": {
          "title": ""
         },
         "hoverinfo": "text",
         "legendgroup": "sieczne",
         "line": {
          "color": "rgba(227, 111, 71, 1.000)",
          "dash": "solid",
          "shape": "linear",
          "width": 2
         },
         "mode": "lines",
         "name": "sieczne",
         "showlegend": true,
         "text": [
          null,
          null,
          null,
          null,
          null,
          null,
          null,
          null,
          null,
          null,
          null,
          null,
          null,
          null
         ],
         "type": "scatter",
         "x": [
          1,
          2,
          3,
          4,
          5,
          6,
          7,
          8,
          9,
          10,
          11,
          12,
          13,
          14
         ],
         "xaxis": "x1",
         "y": [
          0,
          0,
          0,
          0,
          1,
          2,
          4,
          7,
          12,
          20,
          33,
          54,
          null,
          null
         ],
         "yaxis": "y1",
         "zmax": 0.1,
         "zmin": -0.1
        },
        {
         "colorbar": {
          "title": ""
         },
         "hoverinfo": "text",
         "legendgroup": "Müller",
         "line": {
          "color": "rgba(62, 164, 78, 1.000)",
          "dash": "solid",
          "shape": "linear",
          "width": 2
         },
         "mode": "lines",
         "name": "Müller",
         "showlegend": true,
         "text": [
          null,
          null,
          null,
          null,
          null,
          null,
          null,
          null,
          null,
          null,
          null,
          null,
          null,
          null
         ],
         "type": "scatter",
         "x": [
          1,
          2,
          3,
          4,
          5,
          6,
          7,
          8,
          9,
          10,
          11,
          12,
          13,
          14
         ],
         "xaxis": "x1",
         "y": [
          0,
          0,
          0,
          1,
          2,
          5,
          10,
          20,
          37,
          69,
          null,
          null,
          null,
          null
         ],
         "yaxis": "y1",
         "zmax": 0.1,
         "zmin": -0.1
        }
       ],
       "layout": {
        "annotations": [],
        "height": 400,
        "legend": {
         "bgcolor": "rgba(255, 255, 255, 1.000)",
         "bordercolor": "rgba(0, 0, 0, 1.000)",
         "font": {
          "color": "rgba(0, 0, 0, 1.000)",
          "family": "sans-serif",
          "size": 11
         },
         "tracegroupgap": 0,
         "x": 1,
         "y": 1
        },
        "margin": {
         "b": 20,
         "l": 0,
         "r": 0,
         "t": 20
        },
        "paper_bgcolor": "rgba(255, 255, 255, 1.000)",
        "plot_bgcolor": "rgba(255, 255, 255, 1.000)",
        "showlegend": true,
        "width": 600,
        "xaxis": {
         "anchor": "y1",
         "domain": [
          0.061654272382618835,
          0.9934383202099737
         ],
         "gridcolor": "rgba(0, 0, 0, 0.100)",
         "gridwidth": 0.5,
         "linecolor": "rgba(0, 0, 0, 1.000)",
         "mirror": false,
         "range": [
          0.61,
          14.39
         ],
         "showgrid": true,
         "showline": true,
         "showticklabels": true,
         "tickangle": 0,
         "tickcolor": "rgb(0, 0, 0)",
         "tickfont": {
          "color": "rgba(0, 0, 0, 1.000)",
          "family": "sans-serif",
          "size": 11
         },
         "tickmode": "array",
         "ticks": "inside",
         "ticktext": [
          "1",
          "2",
          "3",
          "4",
          "5",
          "6",
          "7",
          "8",
          "9",
          "10",
          "11",
          "12",
          "13",
          "14"
         ],
         "tickvals": [
          1,
          2,
          3,
          4,
          5,
          6,
          7,
          8,
          9,
          10,
          11,
          12,
          13,
          14
         ],
         "title": "$n$",
         "titlefont": {
          "color": "rgba(0, 0, 0, 1.000)",
          "family": "sans-serif",
          "size": 15
         },
         "type": "-",
         "visible": true,
         "zeroline": false,
         "zerolinecolor": "rgba(0, 0, 0, 1.000)"
        },
        "yaxis": {
         "anchor": "x1",
         "domain": [
          0.07581474190726165,
          0.9901574803149606
         ],
         "gridcolor": "rgba(0, 0, 0, 0.100)",
         "gridwidth": 0.5,
         "linecolor": "rgba(0, 0, 0, 1.000)",
         "mirror": false,
         "range": [
          -2.07,
          71.07
         ],
         "showgrid": true,
         "showline": true,
         "showticklabels": true,
         "tickangle": 0,
         "tickcolor": "rgb(0, 0, 0)",
         "tickfont": {
          "color": "rgba(0, 0, 0, 1.000)",
          "family": "sans-serif",
          "size": 11
         },
         "tickmode": "array",
         "ticks": "inside",
         "ticktext": [
          "0",
          "5",
          "10",
          "15",
          "20",
          "25",
          "30",
          "35",
          "40",
          "45",
          "50",
          "55",
          "60",
          "65",
          "70"
         ],
         "tickvals": [
          0,
          5,
          10,
          15,
          20,
          25,
          30,
          35,
          40,
          45,
          50,
          55,
          60,
          65,
          70
         ],
         "title": "$liczba\\, cyfr$",
         "titlefont": {
          "color": "rgba(0, 0, 0, 1.000)",
          "family": "sans-serif",
          "size": 15
         },
         "type": "-",
         "visible": true,
         "zeroline": false,
         "zerolinecolor": "rgba(0, 0, 0, 1.000)"
        }
       }
      },
      "text/html": [
       "    <div id=\"cb3b993a-0809-43b1-bb7c-85a7028d282e\" style=\"width:600px;height:400px;\"></div>\n",
       "    <script>\n",
       "    PLOT = document.getElementById('cb3b993a-0809-43b1-bb7c-85a7028d282e');\n",
       "    Plotly.plot(PLOT, [{\"xaxis\":\"x1\",\"colorbar\":{\"title\":\"\"},\"yaxis\":\"y1\",\"text\":[null,null,null,null,null,null,null,null,null,null,null,null,null,null],\"x\":[1,2,3,4,5,6,7,8,9,10,11,12,13,14],\"showlegend\":true,\"mode\":\"lines\",\"name\":\"Newton\",\"zmin\":-0.1,\"legendgroup\":\"Newton\",\"zmax\":0.1,\"line\":{\"color\":\"rgba(0, 154, 250, 1.000)\",\"shape\":\"linear\",\"dash\":\"solid\",\"width\":2.0},\"y\":[0.0,0.0,0.0,1.0,3.0,7.0,15.0,30.0,47.0,64.0,null,null,null,null],\"type\":\"scatter\",\"hoverinfo\":\"text\"},{\"xaxis\":\"x1\",\"colorbar\":{\"title\":\"\"},\"yaxis\":\"y1\",\"text\":[null,null,null,null,null,null,null,null,null,null,null,null,null,null],\"x\":[1,2,3,4,5,6,7,8,9,10,11,12,13,14],\"showlegend\":true,\"mode\":\"lines\",\"name\":\"sieczne\",\"zmin\":-0.1,\"legendgroup\":\"sieczne\",\"zmax\":0.1,\"line\":{\"color\":\"rgba(227, 111, 71, 1.000)\",\"shape\":\"linear\",\"dash\":\"solid\",\"width\":2.0},\"y\":[0.0,0.0,0.0,0.0,1.0,2.0,4.0,7.0,12.0,20.0,33.0,54.0,null,null],\"type\":\"scatter\",\"hoverinfo\":\"text\"},{\"xaxis\":\"x1\",\"colorbar\":{\"title\":\"\"},\"yaxis\":\"y1\",\"text\":[null,null,null,null,null,null,null,null,null,null,null,null,null,null],\"x\":[1,2,3,4,5,6,7,8,9,10,11,12,13,14],\"showlegend\":true,\"mode\":\"lines\",\"name\":\"Müller\",\"zmin\":-0.1,\"legendgroup\":\"Müller\",\"zmax\":0.1,\"line\":{\"color\":\"rgba(62, 164, 78, 1.000)\",\"shape\":\"linear\",\"dash\":\"solid\",\"width\":2.0},\"y\":[0.0,0.0,0.0,1.0,2.0,5.0,10.0,20.0,37.0,69.0,null,null,null,null],\"type\":\"scatter\",\"hoverinfo\":\"text\"}], {\"showlegend\":true,\"xaxis\":{\"showticklabels\":true,\"gridwidth\":0.5,\"tickvals\":[1.0,2.0,3.0,4.0,5.0,6.0,7.0,8.0,9.0,10.0,11.0,12.0,13.0,14.0],\"visible\":true,\"ticks\":\"inside\",\"range\":[0.61,14.39],\"domain\":[0.061654272382618835,0.9934383202099737],\"tickmode\":\"array\",\"linecolor\":\"rgba(0, 0, 0, 1.000)\",\"showgrid\":true,\"title\":\"$n$\",\"mirror\":false,\"tickangle\":0,\"showline\":true,\"gridcolor\":\"rgba(0, 0, 0, 0.100)\",\"titlefont\":{\"color\":\"rgba(0, 0, 0, 1.000)\",\"family\":\"sans-serif\",\"size\":15},\"tickcolor\":\"rgb(0, 0, 0)\",\"ticktext\":[\"1\",\"2\",\"3\",\"4\",\"5\",\"6\",\"7\",\"8\",\"9\",\"10\",\"11\",\"12\",\"13\",\"14\"],\"zeroline\":false,\"type\":\"-\",\"tickfont\":{\"color\":\"rgba(0, 0, 0, 1.000)\",\"family\":\"sans-serif\",\"size\":11},\"zerolinecolor\":\"rgba(0, 0, 0, 1.000)\",\"anchor\":\"y1\"},\"paper_bgcolor\":\"rgba(255, 255, 255, 1.000)\",\"annotations\":[],\"height\":400,\"margin\":{\"l\":0,\"b\":20,\"r\":0,\"t\":20},\"plot_bgcolor\":\"rgba(255, 255, 255, 1.000)\",\"yaxis\":{\"showticklabels\":true,\"gridwidth\":0.5,\"tickvals\":[0.0,5.0,10.0,15.0,20.0,25.0,30.0,35.0,40.0,45.0,50.0,55.0,60.0,65.0,70.0],\"visible\":true,\"ticks\":\"inside\",\"range\":[-2.07,71.07],\"domain\":[0.07581474190726165,0.9901574803149606],\"tickmode\":\"array\",\"linecolor\":\"rgba(0, 0, 0, 1.000)\",\"showgrid\":true,\"title\":\"$liczba\\\\, cyfr$\",\"mirror\":false,\"tickangle\":0,\"showline\":true,\"gridcolor\":\"rgba(0, 0, 0, 0.100)\",\"titlefont\":{\"color\":\"rgba(0, 0, 0, 1.000)\",\"family\":\"sans-serif\",\"size\":15},\"tickcolor\":\"rgb(0, 0, 0)\",\"ticktext\":[\"0\",\"5\",\"10\",\"15\",\"20\",\"25\",\"30\",\"35\",\"40\",\"45\",\"50\",\"55\",\"60\",\"65\",\"70\"],\"zeroline\":false,\"type\":\"-\",\"tickfont\":{\"color\":\"rgba(0, 0, 0, 1.000)\",\"family\":\"sans-serif\",\"size\":11},\"zerolinecolor\":\"rgba(0, 0, 0, 1.000)\",\"anchor\":\"x1\"},\"legend\":{\"tracegroupgap\":0,\"bordercolor\":\"rgba(0, 0, 0, 1.000)\",\"bgcolor\":\"rgba(255, 255, 255, 1.000)\",\"font\":{\"color\":\"rgba(0, 0, 0, 1.000)\",\"family\":\"sans-serif\",\"size\":11},\"y\":1.0,\"x\":1.0},\"width\":600});\n",
       "    </script>\n"
      ]
     },
     "execution_count": 12,
     "metadata": {},
     "output_type": "execute_result"
    }
   ],
   "source": [
    "f3(x) = x*(2.0^x)-2\n",
    "df3(x) = 2.0^x * (x * log(2.0)+1.0)\n",
    "f3_zero = BigFloat(1)\n",
    "x0_3 = BigFloat(0.123)\n",
    "@assert(f3(f3_zero) == 0.0, f3(f3_zero))\n",
    "test_methods(f3, df3, x0_3, f3_zero, 20)"
   ]
  },
  {
   "cell_type": "code",
   "execution_count": 13,
   "metadata": {},
   "outputs": [
    {
     "name": "stdout",
     "output_type": "stream",
     "text": [
      "Wyniki dla metody Newtona:\n",
      "\n",
      "n=000 --- 0.0\n",
      "n=001 --- 0.0\n",
      "n=002 --- 1.0\n",
      "n=003 --- 4.0\n",
      "n=004 --- 8.0\n",
      "n=005 --- 1.7e+01\n",
      "n=006 --- 3.4e+01\n",
      "n=007 --- 7.0e+01\n",
      "n=008 --- Inf\n",
      "==========================================\n",
      "Wyniki dla metody siecznych:\n",
      "\n",
      "n=000 --- 0.0\n",
      "n=001 --- 0.0\n",
      "n=002 --- 1.0\n",
      "n=003 --- 2.0\n",
      "n=004 --- 4.0\n",
      "n=005 --- 6.0\n",
      "n=006 --- 1.1e+01\n",
      "n=007 --- 1.8e+01\n",
      "n=008 --- 3.0e+01\n",
      "n=009 --- 4.8e+01\n",
      "n=010 --- Inf\n",
      "n=011 --- Inf\n",
      "==========================================\n",
      "Wyniki dla metody Müllera:\n",
      "\n",
      "n=000 --- 0.0\n",
      "n=001 --- 0.0\n",
      "n=002 --- 1.0\n",
      "n=003 --- 2.0\n",
      "n=004 --- 5.0\n",
      "n=005 --- 9.0\n",
      "n=006 --- 1.8e+01\n",
      "n=007 --- 3.3e+01\n",
      "n=008 --- 6.1e+01\n",
      "n=009 --- Inf\n",
      "n=010 --- Inf\n",
      "==========================================\n"
     ]
    },
    {
     "data": {
      "application/vnd.plotly.v1+json": {
       "data": [
        {
         "colorbar": {
          "title": ""
         },
         "hoverinfo": "text",
         "legendgroup": "Newton",
         "line": {
          "color": "rgba(0, 154, 250, 1.000)",
          "dash": "solid",
          "shape": "linear",
          "width": 2
         },
         "mode": "lines",
         "name": "Newton",
         "showlegend": true,
         "text": [
          null,
          null,
          null,
          null,
          null,
          null,
          null,
          null,
          null,
          null,
          null,
          null
         ],
         "type": "scatter",
         "x": [
          1,
          2,
          3,
          4,
          5,
          6,
          7,
          8,
          9,
          10,
          11,
          12
         ],
         "xaxis": "x1",
         "y": [
          0,
          0,
          1,
          4,
          8,
          17,
          34,
          70,
          null,
          null,
          null,
          null
         ],
         "yaxis": "y1",
         "zmax": 0.1,
         "zmin": -0.1
        },
        {
         "colorbar": {
          "title": ""
         },
         "hoverinfo": "text",
         "legendgroup": "sieczne",
         "line": {
          "color": "rgba(227, 111, 71, 1.000)",
          "dash": "solid",
          "shape": "linear",
          "width": 2
         },
         "mode": "lines",
         "name": "sieczne",
         "showlegend": true,
         "text": [
          null,
          null,
          null,
          null,
          null,
          null,
          null,
          null,
          null,
          null,
          null,
          null
         ],
         "type": "scatter",
         "x": [
          1,
          2,
          3,
          4,
          5,
          6,
          7,
          8,
          9,
          10,
          11,
          12
         ],
         "xaxis": "x1",
         "y": [
          0,
          0,
          1,
          2,
          4,
          6,
          11,
          18,
          30,
          48,
          null,
          null
         ],
         "yaxis": "y1",
         "zmax": 0.1,
         "zmin": -0.1
        },
        {
         "colorbar": {
          "title": ""
         },
         "hoverinfo": "text",
         "legendgroup": "Müller",
         "line": {
          "color": "rgba(62, 164, 78, 1.000)",
          "dash": "solid",
          "shape": "linear",
          "width": 2
         },
         "mode": "lines",
         "name": "Müller",
         "showlegend": true,
         "text": [
          null,
          null,
          null,
          null,
          null,
          null,
          null,
          null,
          null,
          null,
          null,
          null
         ],
         "type": "scatter",
         "x": [
          1,
          2,
          3,
          4,
          5,
          6,
          7,
          8,
          9,
          10,
          11,
          12
         ],
         "xaxis": "x1",
         "y": [
          0,
          0,
          1,
          2,
          5,
          9,
          18,
          33,
          61,
          null,
          null,
          null
         ],
         "yaxis": "y1",
         "zmax": 0.1,
         "zmin": -0.1
        }
       ],
       "layout": {
        "annotations": [],
        "height": 400,
        "legend": {
         "bgcolor": "rgba(255, 255, 255, 1.000)",
         "bordercolor": "rgba(0, 0, 0, 1.000)",
         "font": {
          "color": "rgba(0, 0, 0, 1.000)",
          "family": "sans-serif",
          "size": 11
         },
         "tracegroupgap": 0,
         "x": 1,
         "y": 1
        },
        "margin": {
         "b": 20,
         "l": 0,
         "r": 0,
         "t": 20
        },
        "paper_bgcolor": "rgba(255, 255, 255, 1.000)",
        "plot_bgcolor": "rgba(255, 255, 255, 1.000)",
        "showlegend": true,
        "width": 600,
        "xaxis": {
         "anchor": "y1",
         "domain": [
          0.061654272382618835,
          0.9934383202099737
         ],
         "gridcolor": "rgba(0, 0, 0, 0.100)",
         "gridwidth": 0.5,
         "linecolor": "rgba(0, 0, 0, 1.000)",
         "mirror": false,
         "range": [
          0.67,
          12.33
         ],
         "showgrid": true,
         "showline": true,
         "showticklabels": true,
         "tickangle": 0,
         "tickcolor": "rgb(0, 0, 0)",
         "tickfont": {
          "color": "rgba(0, 0, 0, 1.000)",
          "family": "sans-serif",
          "size": 11
         },
         "tickmode": "array",
         "ticks": "inside",
         "ticktext": [
          "1",
          "2",
          "3",
          "4",
          "5",
          "6",
          "7",
          "8",
          "9",
          "10",
          "11",
          "12"
         ],
         "tickvals": [
          1,
          2,
          3,
          4,
          5,
          6,
          7,
          8,
          9,
          10,
          11,
          12
         ],
         "title": "$n$",
         "titlefont": {
          "color": "rgba(0, 0, 0, 1.000)",
          "family": "sans-serif",
          "size": 15
         },
         "type": "-",
         "visible": true,
         "zeroline": false,
         "zerolinecolor": "rgba(0, 0, 0, 1.000)"
        },
        "yaxis": {
         "anchor": "x1",
         "domain": [
          0.07581474190726165,
          0.9901574803149606
         ],
         "gridcolor": "rgba(0, 0, 0, 0.100)",
         "gridwidth": 0.5,
         "linecolor": "rgba(0, 0, 0, 1.000)",
         "mirror": false,
         "range": [
          -2.1,
          72.1
         ],
         "showgrid": true,
         "showline": true,
         "showticklabels": true,
         "tickangle": 0,
         "tickcolor": "rgb(0, 0, 0)",
         "tickfont": {
          "color": "rgba(0, 0, 0, 1.000)",
          "family": "sans-serif",
          "size": 11
         },
         "tickmode": "array",
         "ticks": "inside",
         "ticktext": [
          "0",
          "5",
          "10",
          "15",
          "20",
          "25",
          "30",
          "35",
          "40",
          "45",
          "50",
          "55",
          "60",
          "65",
          "70"
         ],
         "tickvals": [
          0,
          5,
          10,
          15,
          20,
          25,
          30,
          35,
          40,
          45,
          50,
          55,
          60,
          65,
          70
         ],
         "title": "$liczba\\, cyfr$",
         "titlefont": {
          "color": "rgba(0, 0, 0, 1.000)",
          "family": "sans-serif",
          "size": 15
         },
         "type": "-",
         "visible": true,
         "zeroline": false,
         "zerolinecolor": "rgba(0, 0, 0, 1.000)"
        }
       }
      },
      "text/html": [
       "    <div id=\"b3887734-9843-49c4-983d-acd8e9ad7d2c\" style=\"width:600px;height:400px;\"></div>\n",
       "    <script>\n",
       "    PLOT = document.getElementById('b3887734-9843-49c4-983d-acd8e9ad7d2c');\n",
       "    Plotly.plot(PLOT, [{\"xaxis\":\"x1\",\"colorbar\":{\"title\":\"\"},\"yaxis\":\"y1\",\"text\":[null,null,null,null,null,null,null,null,null,null,null,null],\"x\":[1,2,3,4,5,6,7,8,9,10,11,12],\"showlegend\":true,\"mode\":\"lines\",\"name\":\"Newton\",\"zmin\":-0.1,\"legendgroup\":\"Newton\",\"zmax\":0.1,\"line\":{\"color\":\"rgba(0, 154, 250, 1.000)\",\"shape\":\"linear\",\"dash\":\"solid\",\"width\":2.0},\"y\":[0.0,0.0,1.0,4.0,8.0,17.0,34.0,70.0,null,null,null,null],\"type\":\"scatter\",\"hoverinfo\":\"text\"},{\"xaxis\":\"x1\",\"colorbar\":{\"title\":\"\"},\"yaxis\":\"y1\",\"text\":[null,null,null,null,null,null,null,null,null,null,null,null],\"x\":[1,2,3,4,5,6,7,8,9,10,11,12],\"showlegend\":true,\"mode\":\"lines\",\"name\":\"sieczne\",\"zmin\":-0.1,\"legendgroup\":\"sieczne\",\"zmax\":0.1,\"line\":{\"color\":\"rgba(227, 111, 71, 1.000)\",\"shape\":\"linear\",\"dash\":\"solid\",\"width\":2.0},\"y\":[0.0,0.0,1.0,2.0,4.0,6.0,11.0,18.0,30.0,48.0,null,null],\"type\":\"scatter\",\"hoverinfo\":\"text\"},{\"xaxis\":\"x1\",\"colorbar\":{\"title\":\"\"},\"yaxis\":\"y1\",\"text\":[null,null,null,null,null,null,null,null,null,null,null,null],\"x\":[1,2,3,4,5,6,7,8,9,10,11,12],\"showlegend\":true,\"mode\":\"lines\",\"name\":\"Müller\",\"zmin\":-0.1,\"legendgroup\":\"Müller\",\"zmax\":0.1,\"line\":{\"color\":\"rgba(62, 164, 78, 1.000)\",\"shape\":\"linear\",\"dash\":\"solid\",\"width\":2.0},\"y\":[0.0,0.0,1.0,2.0,5.0,9.0,18.0,33.0,61.0,null,null,null],\"type\":\"scatter\",\"hoverinfo\":\"text\"}], {\"showlegend\":true,\"xaxis\":{\"showticklabels\":true,\"gridwidth\":0.5,\"tickvals\":[1.0,2.0,3.0,4.0,5.0,6.0,7.0,8.0,9.0,10.0,11.0,12.0],\"visible\":true,\"ticks\":\"inside\",\"range\":[0.67,12.33],\"domain\":[0.061654272382618835,0.9934383202099737],\"tickmode\":\"array\",\"linecolor\":\"rgba(0, 0, 0, 1.000)\",\"showgrid\":true,\"title\":\"$n$\",\"mirror\":false,\"tickangle\":0,\"showline\":true,\"gridcolor\":\"rgba(0, 0, 0, 0.100)\",\"titlefont\":{\"color\":\"rgba(0, 0, 0, 1.000)\",\"family\":\"sans-serif\",\"size\":15},\"tickcolor\":\"rgb(0, 0, 0)\",\"ticktext\":[\"1\",\"2\",\"3\",\"4\",\"5\",\"6\",\"7\",\"8\",\"9\",\"10\",\"11\",\"12\"],\"zeroline\":false,\"type\":\"-\",\"tickfont\":{\"color\":\"rgba(0, 0, 0, 1.000)\",\"family\":\"sans-serif\",\"size\":11},\"zerolinecolor\":\"rgba(0, 0, 0, 1.000)\",\"anchor\":\"y1\"},\"paper_bgcolor\":\"rgba(255, 255, 255, 1.000)\",\"annotations\":[],\"height\":400,\"margin\":{\"l\":0,\"b\":20,\"r\":0,\"t\":20},\"plot_bgcolor\":\"rgba(255, 255, 255, 1.000)\",\"yaxis\":{\"showticklabels\":true,\"gridwidth\":0.5,\"tickvals\":[0.0,5.0,10.0,15.0,20.0,25.0,30.0,35.0,40.0,45.0,50.0,55.0,60.0,65.0,70.0],\"visible\":true,\"ticks\":\"inside\",\"range\":[-2.1,72.1],\"domain\":[0.07581474190726165,0.9901574803149606],\"tickmode\":\"array\",\"linecolor\":\"rgba(0, 0, 0, 1.000)\",\"showgrid\":true,\"title\":\"$liczba\\\\, cyfr$\",\"mirror\":false,\"tickangle\":0,\"showline\":true,\"gridcolor\":\"rgba(0, 0, 0, 0.100)\",\"titlefont\":{\"color\":\"rgba(0, 0, 0, 1.000)\",\"family\":\"sans-serif\",\"size\":15},\"tickcolor\":\"rgb(0, 0, 0)\",\"ticktext\":[\"0\",\"5\",\"10\",\"15\",\"20\",\"25\",\"30\",\"35\",\"40\",\"45\",\"50\",\"55\",\"60\",\"65\",\"70\"],\"zeroline\":false,\"type\":\"-\",\"tickfont\":{\"color\":\"rgba(0, 0, 0, 1.000)\",\"family\":\"sans-serif\",\"size\":11},\"zerolinecolor\":\"rgba(0, 0, 0, 1.000)\",\"anchor\":\"x1\"},\"legend\":{\"tracegroupgap\":0,\"bordercolor\":\"rgba(0, 0, 0, 1.000)\",\"bgcolor\":\"rgba(255, 255, 255, 1.000)\",\"font\":{\"color\":\"rgba(0, 0, 0, 1.000)\",\"family\":\"sans-serif\",\"size\":11},\"y\":1.0,\"x\":1.0},\"width\":600});\n",
       "    </script>\n"
      ]
     },
     "execution_count": 13,
     "metadata": {},
     "output_type": "execute_result"
    }
   ],
   "source": [
    "f4(x) = log(abs(x))\n",
    "df4(x) = 1.0/x\n",
    "f4_zero = 1.0\n",
    "x0_4 = BigFloat(0.5)\n",
    "@assert(f4(f4_zero) == 0.0, f4(f4_zero))\n",
    "test_methods(f4, df4, x0_4, f4_zero, 20)"
   ]
  },
  {
   "cell_type": "code",
   "execution_count": 14,
   "metadata": {},
   "outputs": [
    {
     "name": "stdout",
     "output_type": "stream",
     "text": [
      "Wyniki dla metody Newtona:\n",
      "\n",
      "n=000 --- 0.0\n",
      "n=001 --- 1.0\n",
      "n=002 --- 2.0\n",
      "n=003 --- 4.0\n",
      "n=004 --- 9.0\n",
      "n=005 --- 1.6e+01\n",
      "n=006 --- 1.6e+01\n",
      "n=007 --- 1.6e+01\n",
      "n=008 --- 1.6e+01\n",
      "==========================================\n",
      "Wyniki dla metody siecznych:\n",
      "\n",
      "n=000 --- 0.0\n",
      "n=001 --- 1.0\n",
      "n=002 --- 2.0\n",
      "n=003 --- 3.0\n",
      "n=004 --- 5.0\n",
      "n=005 --- 8.0\n",
      "n=006 --- 1.3e+01\n",
      "n=007 --- 1.6e+01\n",
      "n=008 --- 1.6e+01\n",
      "n=009 --- 1.6e+01\n",
      "n=010 --- 1.6e+01\n",
      "n=011 --- 1.6e+01\n",
      "==========================================\n",
      "Wyniki dla metody Müllera:\n",
      "\n",
      "n=000 --- 0.0\n",
      "n=001 --- 1.0\n",
      "n=002 --- 2.0\n",
      "n=003 --- 3.0\n",
      "n=004 --- 6.0\n",
      "n=005 --- 1.2e+01\n",
      "n=006 --- 1.6e+01\n",
      "n=007 --- 1.6e+01\n",
      "n=008 --- 1.6e+01\n",
      "n=009 --- 1.6e+01\n",
      "n=010 --- 1.6e+01\n",
      "==========================================\n"
     ]
    },
    {
     "data": {
      "application/vnd.plotly.v1+json": {
       "data": [
        {
         "colorbar": {
          "title": ""
         },
         "hoverinfo": "text",
         "legendgroup": "Newton",
         "line": {
          "color": "rgba(0, 154, 250, 1.000)",
          "dash": "solid",
          "shape": "linear",
          "width": 2
         },
         "mode": "lines",
         "name": "Newton",
         "showlegend": true,
         "text": [
          null,
          null,
          null,
          null,
          null,
          null,
          null,
          null,
          null,
          null,
          null,
          null
         ],
         "type": "scatter",
         "x": [
          1,
          2,
          3,
          4,
          5,
          6,
          7,
          8,
          9,
          10,
          11,
          12
         ],
         "xaxis": "x1",
         "y": [
          0,
          1,
          2,
          4,
          9,
          16,
          16,
          16,
          16,
          null,
          null,
          null
         ],
         "yaxis": "y1",
         "zmax": 0.1,
         "zmin": -0.1
        },
        {
         "colorbar": {
          "title": ""
         },
         "hoverinfo": "text",
         "legendgroup": "sieczne",
         "line": {
          "color": "rgba(227, 111, 71, 1.000)",
          "dash": "solid",
          "shape": "linear",
          "width": 2
         },
         "mode": "lines",
         "name": "sieczne",
         "showlegend": true,
         "text": [
          null,
          null,
          null,
          null,
          null,
          null,
          null,
          null,
          null,
          null,
          null,
          null
         ],
         "type": "scatter",
         "x": [
          1,
          2,
          3,
          4,
          5,
          6,
          7,
          8,
          9,
          10,
          11,
          12
         ],
         "xaxis": "x1",
         "y": [
          0,
          1,
          2,
          3,
          5,
          8,
          13,
          16,
          16,
          16,
          16,
          16
         ],
         "yaxis": "y1",
         "zmax": 0.1,
         "zmin": -0.1
        },
        {
         "colorbar": {
          "title": ""
         },
         "hoverinfo": "text",
         "legendgroup": "Müller",
         "line": {
          "color": "rgba(62, 164, 78, 1.000)",
          "dash": "solid",
          "shape": "linear",
          "width": 2
         },
         "mode": "lines",
         "name": "Müller",
         "showlegend": true,
         "text": [
          null,
          null,
          null,
          null,
          null,
          null,
          null,
          null,
          null,
          null,
          null,
          null
         ],
         "type": "scatter",
         "x": [
          1,
          2,
          3,
          4,
          5,
          6,
          7,
          8,
          9,
          10,
          11,
          12
         ],
         "xaxis": "x1",
         "y": [
          0,
          1,
          2,
          3,
          6,
          12,
          16,
          16,
          16,
          16,
          16,
          null
         ],
         "yaxis": "y1",
         "zmax": 0.1,
         "zmin": -0.1
        }
       ],
       "layout": {
        "annotations": [],
        "height": 400,
        "legend": {
         "bgcolor": "rgba(255, 255, 255, 1.000)",
         "bordercolor": "rgba(0, 0, 0, 1.000)",
         "font": {
          "color": "rgba(0, 0, 0, 1.000)",
          "family": "sans-serif",
          "size": 11
         },
         "tracegroupgap": 0,
         "x": 1,
         "y": 1
        },
        "margin": {
         "b": 20,
         "l": 0,
         "r": 0,
         "t": 20
        },
        "paper_bgcolor": "rgba(255, 255, 255, 1.000)",
        "plot_bgcolor": "rgba(255, 255, 255, 1.000)",
        "showlegend": true,
        "width": 600,
        "xaxis": {
         "anchor": "y1",
         "domain": [
          0.061654272382618835,
          0.9934383202099737
         ],
         "gridcolor": "rgba(0, 0, 0, 0.100)",
         "gridwidth": 0.5,
         "linecolor": "rgba(0, 0, 0, 1.000)",
         "mirror": false,
         "range": [
          0.67,
          12.33
         ],
         "showgrid": true,
         "showline": true,
         "showticklabels": true,
         "tickangle": 0,
         "tickcolor": "rgb(0, 0, 0)",
         "tickfont": {
          "color": "rgba(0, 0, 0, 1.000)",
          "family": "sans-serif",
          "size": 11
         },
         "tickmode": "array",
         "ticks": "inside",
         "ticktext": [
          "1",
          "2",
          "3",
          "4",
          "5",
          "6",
          "7",
          "8",
          "9",
          "10",
          "11",
          "12"
         ],
         "tickvals": [
          1,
          2,
          3,
          4,
          5,
          6,
          7,
          8,
          9,
          10,
          11,
          12
         ],
         "title": "$n$",
         "titlefont": {
          "color": "rgba(0, 0, 0, 1.000)",
          "family": "sans-serif",
          "size": 15
         },
         "type": "-",
         "visible": true,
         "zeroline": false,
         "zerolinecolor": "rgba(0, 0, 0, 1.000)"
        },
        "yaxis": {
         "anchor": "x1",
         "domain": [
          0.07581474190726165,
          0.9901574803149606
         ],
         "gridcolor": "rgba(0, 0, 0, 0.100)",
         "gridwidth": 0.5,
         "linecolor": "rgba(0, 0, 0, 1.000)",
         "mirror": false,
         "range": [
          -0.48,
          16.48
         ],
         "showgrid": true,
         "showline": true,
         "showticklabels": true,
         "tickangle": 0,
         "tickcolor": "rgb(0, 0, 0)",
         "tickfont": {
          "color": "rgba(0, 0, 0, 1.000)",
          "family": "sans-serif",
          "size": 11
         },
         "tickmode": "array",
         "ticks": "inside",
         "ticktext": [
          "0",
          "5",
          "10",
          "15"
         ],
         "tickvals": [
          0,
          5,
          10,
          15
         ],
         "title": "$liczba\\, cyfr$",
         "titlefont": {
          "color": "rgba(0, 0, 0, 1.000)",
          "family": "sans-serif",
          "size": 15
         },
         "type": "-",
         "visible": true,
         "zeroline": false,
         "zerolinecolor": "rgba(0, 0, 0, 1.000)"
        }
       }
      },
      "text/html": [
       "    <div id=\"942d046a-faa4-4c76-ad3a-a59396c43416\" style=\"width:600px;height:400px;\"></div>\n",
       "    <script>\n",
       "    PLOT = document.getElementById('942d046a-faa4-4c76-ad3a-a59396c43416');\n",
       "    Plotly.plot(PLOT, [{\"xaxis\":\"x1\",\"colorbar\":{\"title\":\"\"},\"yaxis\":\"y1\",\"text\":[null,null,null,null,null,null,null,null,null,null,null,null],\"x\":[1,2,3,4,5,6,7,8,9,10,11,12],\"showlegend\":true,\"mode\":\"lines\",\"name\":\"Newton\",\"zmin\":-0.1,\"legendgroup\":\"Newton\",\"zmax\":0.1,\"line\":{\"color\":\"rgba(0, 154, 250, 1.000)\",\"shape\":\"linear\",\"dash\":\"solid\",\"width\":2.0},\"y\":[0.0,1.0,2.0,4.0,9.0,16.0,16.0,16.0,16.0,null,null,null],\"type\":\"scatter\",\"hoverinfo\":\"text\"},{\"xaxis\":\"x1\",\"colorbar\":{\"title\":\"\"},\"yaxis\":\"y1\",\"text\":[null,null,null,null,null,null,null,null,null,null,null,null],\"x\":[1,2,3,4,5,6,7,8,9,10,11,12],\"showlegend\":true,\"mode\":\"lines\",\"name\":\"sieczne\",\"zmin\":-0.1,\"legendgroup\":\"sieczne\",\"zmax\":0.1,\"line\":{\"color\":\"rgba(227, 111, 71, 1.000)\",\"shape\":\"linear\",\"dash\":\"solid\",\"width\":2.0},\"y\":[0.0,1.0,2.0,3.0,5.0,8.0,13.0,16.0,16.0,16.0,16.0,16.0],\"type\":\"scatter\",\"hoverinfo\":\"text\"},{\"xaxis\":\"x1\",\"colorbar\":{\"title\":\"\"},\"yaxis\":\"y1\",\"text\":[null,null,null,null,null,null,null,null,null,null,null,null],\"x\":[1,2,3,4,5,6,7,8,9,10,11,12],\"showlegend\":true,\"mode\":\"lines\",\"name\":\"Müller\",\"zmin\":-0.1,\"legendgroup\":\"Müller\",\"zmax\":0.1,\"line\":{\"color\":\"rgba(62, 164, 78, 1.000)\",\"shape\":\"linear\",\"dash\":\"solid\",\"width\":2.0},\"y\":[0.0,1.0,2.0,3.0,6.0,12.0,16.0,16.0,16.0,16.0,16.0,null],\"type\":\"scatter\",\"hoverinfo\":\"text\"}], {\"showlegend\":true,\"xaxis\":{\"showticklabels\":true,\"gridwidth\":0.5,\"tickvals\":[1.0,2.0,3.0,4.0,5.0,6.0,7.0,8.0,9.0,10.0,11.0,12.0],\"visible\":true,\"ticks\":\"inside\",\"range\":[0.67,12.33],\"domain\":[0.061654272382618835,0.9934383202099737],\"tickmode\":\"array\",\"linecolor\":\"rgba(0, 0, 0, 1.000)\",\"showgrid\":true,\"title\":\"$n$\",\"mirror\":false,\"tickangle\":0,\"showline\":true,\"gridcolor\":\"rgba(0, 0, 0, 0.100)\",\"titlefont\":{\"color\":\"rgba(0, 0, 0, 1.000)\",\"family\":\"sans-serif\",\"size\":15},\"tickcolor\":\"rgb(0, 0, 0)\",\"ticktext\":[\"1\",\"2\",\"3\",\"4\",\"5\",\"6\",\"7\",\"8\",\"9\",\"10\",\"11\",\"12\"],\"zeroline\":false,\"type\":\"-\",\"tickfont\":{\"color\":\"rgba(0, 0, 0, 1.000)\",\"family\":\"sans-serif\",\"size\":11},\"zerolinecolor\":\"rgba(0, 0, 0, 1.000)\",\"anchor\":\"y1\"},\"paper_bgcolor\":\"rgba(255, 255, 255, 1.000)\",\"annotations\":[],\"height\":400,\"margin\":{\"l\":0,\"b\":20,\"r\":0,\"t\":20},\"plot_bgcolor\":\"rgba(255, 255, 255, 1.000)\",\"yaxis\":{\"showticklabels\":true,\"gridwidth\":0.5,\"tickvals\":[0.0,5.0,10.0,15.0],\"visible\":true,\"ticks\":\"inside\",\"range\":[-0.48,16.48],\"domain\":[0.07581474190726165,0.9901574803149606],\"tickmode\":\"array\",\"linecolor\":\"rgba(0, 0, 0, 1.000)\",\"showgrid\":true,\"title\":\"$liczba\\\\, cyfr$\",\"mirror\":false,\"tickangle\":0,\"showline\":true,\"gridcolor\":\"rgba(0, 0, 0, 0.100)\",\"titlefont\":{\"color\":\"rgba(0, 0, 0, 1.000)\",\"family\":\"sans-serif\",\"size\":15},\"tickcolor\":\"rgb(0, 0, 0)\",\"ticktext\":[\"0\",\"5\",\"10\",\"15\"],\"zeroline\":false,\"type\":\"-\",\"tickfont\":{\"color\":\"rgba(0, 0, 0, 1.000)\",\"family\":\"sans-serif\",\"size\":11},\"zerolinecolor\":\"rgba(0, 0, 0, 1.000)\",\"anchor\":\"x1\"},\"legend\":{\"tracegroupgap\":0,\"bordercolor\":\"rgba(0, 0, 0, 1.000)\",\"bgcolor\":\"rgba(255, 255, 255, 1.000)\",\"font\":{\"color\":\"rgba(0, 0, 0, 1.000)\",\"family\":\"sans-serif\",\"size\":11},\"y\":1.0,\"x\":1.0},\"width\":600});\n",
       "    </script>\n"
      ]
     },
     "execution_count": 14,
     "metadata": {},
     "output_type": "execute_result"
    }
   ],
   "source": [
    "f5(x) = cos(x*sin(x))\n",
    "df5(x) = sin(x*sin(x))*(-(sin(x)+x*cos(x)))\n",
    "f5_zero = BigFloat(-π)/2\n",
    "x0_5 = BigFloat(-1)\n",
    "# @assert(f5(f5_zero) == 0.0, f5(f5_zero))\n",
    "test_methods(f5, df5, x0_5, f5_zero, 20)"
   ]
  }
 ],
 "metadata": {
  "kernelspec": {
   "display_name": "Julia 1.0.1",
   "language": "julia",
   "name": "julia-1.0"
  },
  "language_info": {
   "file_extension": ".jl",
   "mimetype": "application/julia",
   "name": "julia",
   "version": "1.0.1"
  }
 },
 "nbformat": 4,
 "nbformat_minor": 2
}
